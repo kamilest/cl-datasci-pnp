{
 "cells": [
  {
   "cell_type": "markdown",
   "metadata": {},
   "source": [
    "# Visualizing data with Python + R/ggplot2"
   ]
  },
  {
   "cell_type": "code",
   "execution_count": 7,
   "metadata": {
    "pycharm": {
     "is_executing": false
    }
   },
   "outputs": [
    {
     "name": "stdout",
     "output_type": "stream",
     "text": [
      "/bin/sh: /Users/kamilestankeviciute/anaconda3/envs/tensorflow/bin/pip: //anaconda3/envs/tensorflow/bin/python: bad interpreter: No such file or directory\n"
     ]
    }
   ],
   "source": [
    "# On Azure Notebooks, you need to manually install this Python package first\n",
    "!pip install tzlocal"
   ]
  },
  {
   "cell_type": "code",
   "execution_count": 3,
   "metadata": {
    "pycharm": {
     "is_executing": false
    }
   },
   "outputs": [
    {
     "name": "stdout",
     "output_type": "stream",
     "text": [
      "\n",
      "Error in library(ggplot2) : there is no package called ‘ggplot2’\n",
      "\n",
      "Error in library(ggthemes) : there is no package called ‘ggthemes’\n"
     ]
    },
    {
     "name": "stderr",
     "output_type": "stream",
     "text": [
      "/Users/kamilestankeviciute/anaconda3/envs/datasci/lib/python3.7/site-packages/rpy2/rinterface/__init__.py:146: RRuntimeWarning: Error in library(ggplot2) : there is no package called ‘ggplot2’\n",
      "\n",
      "  warnings.warn(x, RRuntimeWarning)\n",
      "/Users/kamilestankeviciute/anaconda3/envs/datasci/lib/python3.7/site-packages/rpy2/rinterface/__init__.py:146: RRuntimeWarning: Error in library(ggthemes) : there is no package called ‘ggthemes’\n",
      "\n",
      "  warnings.warn(x, RRuntimeWarning)\n"
     ]
    }
   ],
   "source": [
    "import pandas\n",
    "import numpy as np\n",
    "\n",
    "# Start an embedded R session, hosted by Python/Jupyter.\n",
    "# Then load in some R plotting libraries.\n",
    "%load_ext rpy2.ipython\n",
    "%R library(ggplot2)\n",
    "%R library(ggthemes)"
   ]
  },
  {
   "cell_type": "markdown",
   "metadata": {},
   "source": [
    "In Jupyter, a line that starts `%R` means \"this line is to be run in R\". It accepts optional arguments. So, for example,\n",
    "```\n",
    "%R library(ggplot2)\n",
    "%R -i housing\n",
    "```\n",
    "means \"first execute the R command `library(ggplot2)` in the embedded R session, then copy the pandas DataFrame `housing` into R (and run no command).\"\n",
    "\n",
    "A cell that starts `%%R` means \"the entire contents of this cell are to be run in R\". It also accepts command-line arguments, for example\n",
    "```\n",
    "%%R -w12 -h7 -uin\n",
    "```\n",
    "means \"Run the following lines in the embedded R session, and let any graphical output be rendered into 12x7 inches then displayed in Jupyter.\" "
   ]
  },
  {
   "cell_type": "code",
   "execution_count": 9,
   "metadata": {
    "pycharm": {
     "is_executing": false
    }
   },
   "outputs": [],
   "source": [
    "URL = 'https://raw.githubusercontent.com/marekrei/cl-datasci-pnp/master/DSPNP_practical1/housing/housing.csv'\n",
    "housing = pandas.read_csv(URL)"
   ]
  },
  {
   "cell_type": "code",
   "execution_count": null,
   "metadata": {
    "pycharm": {
     "is_executing": false
    }
   },
   "outputs": [],
   "source": [
    "%%R -w12 -h7 -uin -i housing\n",
    "\n",
    "ggplot(data=housing) + \n",
    "    geom_point(aes(x=longitude, y=latitude, size=total_rooms, col=median_house_value, shape=ocean_proximity), alpha=.3) +\n",
    "    coord_fixed() +\n",
    "    theme_bw()"
   ]
  },
  {
   "cell_type": "markdown",
   "metadata": {},
   "source": [
    "# 0. Some bar charts and line plots"
   ]
  },
  {
   "cell_type": "code",
   "execution_count": null,
   "metadata": {
    "pycharm": {
     "is_executing": false
    }
   },
   "outputs": [],
   "source": [
    "url = 'https://raw.githubusercontent.com/ekochmar/cl-datasci-pnp/master/lecture1-introduction/data/country-stats.csv'\n",
    "country = pandas.read_csv(url)\n",
    "\n",
    "df = country.copy()\n",
    "df['unemployment'] = np.where(df['Unemployment, Total (%)']<7, 'low', 'high')\n",
    "df = df.groupby('unemployment')['GDP per Capita (PPP USD)'].apply(np.mean)\n",
    "df = df.to_frame().reset_index()\n",
    "df.rename(columns={'GDP per Capita (PPP USD)':'gdp_per_capita'}, inplace=True)"
   ]
  },
  {
   "cell_type": "code",
   "execution_count": null,
   "metadata": {
    "pycharm": {
     "is_executing": false
    }
   },
   "outputs": [],
   "source": [
    "%%R -w2 -h3 -uin -i df\n",
    "\n",
    "ggplot(data=df) +\n",
    "    geom_bar(aes(x=unemployment, y=gdp_per_capita, fill=unemployment), stat='identity') +\n",
    "    scale_fill_discrete(guide=FALSE) +\n",
    "    ylab('') + ggtitle('GDP/capita')"
   ]
  },
  {
   "cell_type": "code",
   "execution_count": null,
   "metadata": {
    "pycharm": {
     "is_executing": false
    }
   },
   "outputs": [],
   "source": [
    "%%R -w2 -h3 -uin -i df\n",
    "\n",
    "ggplot(data=df) +\n",
    "    geom_bar(aes(x=unemployment, y=gdp_per_capita, fill=unemployment), stat='identity') +\n",
    "    scale_fill_discrete(guide=FALSE) +\n",
    "    coord_cartesian(ylim=c(14000,17000)) +\n",
    "    ylab('') + ggtitle('GDP/capita')"
   ]
  },
  {
   "cell_type": "code",
   "execution_count": null,
   "metadata": {
    "pycharm": {
     "is_executing": false
    }
   },
   "outputs": [],
   "source": [
    "url = 'https://teachingfiles.blob.core.windows.net/datasets/climate.csv'\n",
    "climate = pandas.read_csv(url)\n",
    "climate['temp'] = (climate.tmin + climate.tmax) / 2\n",
    "climate = climate[['yyyy','mm','temp','station']]"
   ]
  },
  {
   "cell_type": "code",
   "execution_count": null,
   "metadata": {
    "pycharm": {
     "is_executing": false
    }
   },
   "outputs": [],
   "source": [
    "import sklearn.linear_model\n",
    "\n",
    "# Want: average temperature each decade, averaged over the months.\n",
    "# I won't assume the response is sinusoidal: I'll allow an arbitrary shape\n",
    "# over the months,\n",
    "#     temp ~ α_decade + β_month\n",
    "# This model has too many parameters.\n",
    "# I could (1) use it as is, or discard an arbitrary parameter, and then\n",
    "# do post-processing on the coefficients in order to derive the average\n",
    "# temperature in each decade, which would involve adding up per-month\n",
    "# coefficients and then taking the mean; or I could (2) come up with\n",
    "# a different parameterization of the month terms, so that α_decade truly\n",
    "# is the average temperature that month. I use approach (2) here.\n",
    "# Specifically, I'll use the coding\n",
    "# β1 (1[mm=1]-1[mm=12]) + β2 (1[mm=2]-1[mm=12]) + ... + β11 (1[mm=11]-1[mm=12]).\n",
    "# This way, if we work out the responses for each month and average them,\n",
    "# all the β coefficients cancel out.\n",
    "\n",
    "df = climate.loc[(climate.yyyy>=1960) &\n",
    "                 (climate.station=='Cambridge') &\n",
    "                 (~pandas.isnull(climate.temp)) \n",
    "                 ].copy()\n",
    "df['decade'] = [f'{y}s' for y in np.floor(df.yyyy/10).astype(int)*10]\n",
    "decades = [f'{y}s' for y in np.arange(1960,2020,10)]\n",
    "decade_onehot = [np.array(df.decade==d) for d in decades]\n",
    "month_onehot = [np.array(df.mm==m) for m in range(1,13)]\n",
    "X = np.column_stack(month_onehot[:-1]) - month_onehot[-1].reshape(-1,1)*np.ones((1,11))\n",
    "X = np.concatenate([np.column_stack(decade_onehot), X], axis=1)\n",
    "\n",
    "model = sklearn.linear_model.LinearRegression(fit_intercept=False)\n",
    "model.fit(X, df.temp)\n",
    "df2 = pandas.DataFrame({'decade':decades, 'temp':model.coef_[:len(decades)]})"
   ]
  },
  {
   "cell_type": "code",
   "execution_count": null,
   "metadata": {
    "pycharm": {
     "is_executing": false
    }
   },
   "outputs": [],
   "source": [
    "%%R -w2.5 -h3 -uin -i df2\n",
    "\n",
    "ggplot(data=df2) +\n",
    "    geom_bar(aes(x=decade, y=temp), stat='identity', fill='darkslategray3') +\n",
    "    ylab('') + ggtitle('mean temp') +\n",
    "    theme(axis.text.x = element_text(angle = -55, hjust = 0))"
   ]
  },
  {
   "cell_type": "code",
   "execution_count": null,
   "metadata": {
    "pycharm": {
     "is_executing": false
    }
   },
   "outputs": [],
   "source": [
    "%%R -w2.5 -h3 -uin -i df2\n",
    "\n",
    "ggplot(data=df2) +\n",
    "    geom_bar(aes(x=decade, y=temp), stat='identity', fill='darkslategray3') +\n",
    "    coord_cartesian(ylim=c(9,11)) +\n",
    "    scale_y_continuous(breaks=c(9,10,11)) +\n",
    "    ylab('') + ggtitle('mean temp') +\n",
    "    theme(axis.text.x = element_text(angle = -55, hjust = 0))"
   ]
  },
  {
   "cell_type": "code",
   "execution_count": null,
   "metadata": {
    "pycharm": {
     "is_executing": false
    }
   },
   "outputs": [],
   "source": [
    "# Traffic Speeds (mph) in Central London, major roads,\n",
    "# Average Weekday between 7.00am and 7.00pm by Quarter\n",
    "# http://content.tfl.gov.uk/street-performance-report-quarter2-2017-2018.pdf\n",
    "\n",
    "import io\n",
    "\n",
    "speed = pandas.read_csv(io.StringIO(\"\"\"\\\n",
    "quarter,year,mph\n",
    "q1,2014,8.69968262197242\n",
    "q1,2015,7.77705247274574\n",
    "q1,2016,7.65326766600704\n",
    "q1,2017,7.44492247841471\n",
    "q2,2014,9.21489506083079\n",
    "q2,2015,8.08202304257207\n",
    "q2,2016,7.70555811958787\n",
    "q2,2017,7.91827621161064\n",
    "q3,2014,8.38483350298095\n",
    "q3,2015,7.71411952886433\n",
    "q3,2016,7.29613835658876\n",
    "q4,2014,8.81487967663689\n",
    "q4,2015,8.52284342051746\n",
    "q4,2016,8.02077603774818\n",
    "\"\"\"))"
   ]
  },
  {
   "cell_type": "code",
   "execution_count": null,
   "metadata": {
    "pycharm": {
     "is_executing": false
    }
   },
   "outputs": [],
   "source": [
    "%%R -w3 -h3 -uin -ispeed\n",
    "\n",
    "ggplot(data=speed) +\n",
    "    geom_line(aes(x=year, y=mph, colour=quarter), size=2) +\n",
    "    coord_cartesian(ylim=c(7.2,9.5)) +\n",
    "    scale_colour_brewer(type='qual', palette='Paired') +\n",
    "    ylab('') + ggtitle('mph') +\n",
    "    theme(axis.text.x = element_text(angle=-55, hjust=0))"
   ]
  },
  {
   "cell_type": "code",
   "execution_count": null,
   "metadata": {
    "pycharm": {
     "is_executing": false
    }
   },
   "outputs": [],
   "source": [
    "%%R -w3 -h3 -uin -ispeed\n",
    "\n",
    "ggplot(data=speed) +\n",
    "    geom_line(aes(x=year, y=mph, colour=quarter), size=2) +\n",
    "    coord_cartesian(ylim=c(0,10)) +\n",
    "    scale_colour_brewer(type='qual', palette='Paired') +\n",
    "    ylab('') + ggtitle('mph') +\n",
    "    theme(axis.text.x = element_text(angle=-55, hjust=0))"
   ]
  },
  {
   "cell_type": "code",
   "execution_count": null,
   "metadata": {
    "pycharm": {
     "is_executing": false
    }
   },
   "outputs": [],
   "source": [
    "%%R -w3 -h3 -uin -ispeed\n",
    "\n",
    "ggplot(data=speed) +\n",
    "    geom_bar(aes(x=year, y=mph, fill=quarter), colour='white', size=.1, position=position_dodge(preserve='single'), stat='identity') +\n",
    "    coord_cartesian(ylim=c(7.2,9.5)) +\n",
    "    scale_fill_brewer(type='qual', palette='Paired') +\n",
    "    ylab('') + ggtitle('mph') +\n",
    "    theme(axis.text.x = element_text(angle=-55, hjust=0))"
   ]
  },
  {
   "cell_type": "code",
   "execution_count": null,
   "metadata": {
    "pycharm": {
     "is_executing": false
    }
   },
   "outputs": [],
   "source": [
    "%%R -w3 -h3 -uin -ispeed\n",
    "\n",
    "ggplot(data=speed) +\n",
    "    geom_bar(aes(x=year, y=mph, fill=quarter), colour='white', size=.1, position=position_dodge(preserve='single'), stat='identity') +\n",
    "    coord_cartesian(ylim=c(0,10)) +\n",
    "    ylab('') + ggtitle('mph') +\n",
    "    scale_fill_brewer(type='qual', palette='Paired') +\n",
    "    theme(axis.text.x = element_text(angle=-55, hjust=0))"
   ]
  },
  {
   "cell_type": "markdown",
   "metadata": {},
   "source": [
    "# 1. Geoms and aesthetic scales"
   ]
  },
  {
   "cell_type": "code",
   "execution_count": null,
   "metadata": {
    "pycharm": {
     "is_executing": false
    }
   },
   "outputs": [],
   "source": [
    "url = 'https://teachingfiles.blob.core.windows.net/datasets/iris.csv'\n",
    "iris = pandas.read_csv(url)"
   ]
  },
  {
   "cell_type": "code",
   "execution_count": null,
   "metadata": {
    "pycharm": {
     "is_executing": false
    }
   },
   "outputs": [],
   "source": [
    "%%R -w4 -h3 -uin\n",
    "\n",
    "ggplot(data=iris) +\n",
    "    geom_point(aes(x=Petal.Length, y=Petal.Width, col=Species, shape=Species), alpha=.5, size=2) +\n",
    "    guides(colour = guide_legend(override.aes=list(alpha=1))) +\n",
    "    scale_colour_brewer(type='qual') +\n",
    "    theme(aspect.ratio=1)"
   ]
  },
  {
   "cell_type": "code",
   "execution_count": null,
   "metadata": {
    "pycharm": {
     "is_executing": false
    }
   },
   "outputs": [],
   "source": [
    "%%R -w4 -h3 -uin\n",
    "\n",
    "ggplot(data=iris) +\n",
    "    geom_point(aes(x=Petal.Length, y=Petal.Width, col=Species, size=Sepal.Length*Sepal.Width), alpha=.2) +\n",
    "    scale_size_area(breaks=c(10,20,30)) +\n",
    "    guides(colour = FALSE, size = guide_legend(override.aes=list(col='black',alpha=.8))) +\n",
    "    scale_colour_brewer(type='qual') +\n",
    "    theme(aspect.ratio=1)"
   ]
  },
  {
   "cell_type": "code",
   "execution_count": null,
   "metadata": {
    "pycharm": {
     "is_executing": false
    }
   },
   "outputs": [],
   "source": [
    "iris['id'] = np.arange(len(iris))\n",
    "df = pandas.melt(iris, id_vars=['id','Species'])\n",
    "df = df.loc[df.variable.isin(['Sepal.Length','Sepal.Width'])]"
   ]
  },
  {
   "cell_type": "code",
   "execution_count": null,
   "metadata": {
    "pycharm": {
     "is_executing": false
    }
   },
   "outputs": [],
   "source": [
    "%%R -w4 -h3 -uin -i df\n",
    "\n",
    "ggplot(data=df) +\n",
    "    geom_line(aes(x=variable, y=value, col=Species, group=id), size=.2, alpha=.9) +\n",
    "    scale_colour_brewer(type='qual') +\n",
    "    guides(colour = guide_legend(override.aes=list(alpha=1,size=1))) +\n",
    "    theme(aspect.ratio=1)"
   ]
  },
  {
   "cell_type": "code",
   "execution_count": null,
   "metadata": {
    "pycharm": {
     "is_executing": false
    }
   },
   "outputs": [],
   "source": [
    "%%R -w8 -h3 -uin -i iris\n",
    "\n",
    "ggplot(data=iris) +\n",
    "    geom_bar(aes(x=Sepal.Length, fill=Species), stat='bin', bins=20, col='white', size=.2) +\n",
    "    facet_wrap(~Species) +\n",
    "    scale_fill_brewer(type='qual') +\n",
    "    theme(text=element_text(size=18))"
   ]
  },
  {
   "cell_type": "code",
   "execution_count": null,
   "metadata": {
    "pycharm": {
     "is_executing": false
    }
   },
   "outputs": [],
   "source": [
    "%%R -w4 -h3 -uin -i iris\n",
    "\n",
    "ggplot(data=iris) +\n",
    "    geom_area(aes(x=Sepal.Length, y=..density.., fill=Species), position='identity', stat='bin', alpha=.4, bins=20) +\n",
    "    geom_line(aes(x=Sepal.Length, y=..density.., col=Species), stat='bin', bins=20) +\n",
    "    scale_fill_brewer(type='qual') +\n",
    "    scale_colour_brewer(type='qual') +\n",
    "    theme(aspect.ratio=1, text=element_text(size=15))"
   ]
  },
  {
   "cell_type": "code",
   "execution_count": null,
   "metadata": {
    "pycharm": {
     "is_executing": false
    }
   },
   "outputs": [],
   "source": [
    "%%R -w4 -h3 -uin -i iris\n",
    "\n",
    "ggplot(data=iris) + \n",
    "    geom_boxplot(aes(x=Species, y=Sepal.Length, fill=Species)) +\n",
    "    scale_fill_brewer(type='qual', guide=FALSE) +\n",
    "    theme(aspect.ratio=1, text=element_text(size=15))"
   ]
  },
  {
   "cell_type": "markdown",
   "metadata": {},
   "source": [
    "# 3. Scale perception"
   ]
  },
  {
   "cell_type": "code",
   "execution_count": null,
   "metadata": {
    "pycharm": {
     "is_executing": false
    }
   },
   "outputs": [],
   "source": [
    "n = 50\n",
    "df = pandas.DataFrame({\n",
    "    'x': np.random.uniform(size=n),\n",
    "    'y': np.random.uniform(size=n),\n",
    "    'a': np.random.permutation(n)==0,\n",
    "    'b': np.random.permutation(n)==0,\n",
    "    'c': np.random.permutation(n)==0,\n",
    "    'd': np.random.binomial(size=n, n=6, p=.5)\n",
    "})"
   ]
  },
  {
   "cell_type": "code",
   "execution_count": null,
   "metadata": {
    "pycharm": {
     "is_executing": false
    }
   },
   "outputs": [],
   "source": [
    "%%R -w3 -h3 -uin -i df\n",
    "\n",
    "ggplot(data=df) +\n",
    "    geom_point(aes(x=x, y=y, col=a)) +\n",
    "    scale_colour_manual(values=c('TRUE'='red', 'FALSE'='cornflowerblue')) +\n",
    "    coord_cartesian(xlim=c(0,1), ylim=c(0,1), expand=TRUE) +\n",
    "    theme(legend.position='none')"
   ]
  },
  {
   "cell_type": "code",
   "execution_count": null,
   "metadata": {
    "pycharm": {
     "is_executing": false
    }
   },
   "outputs": [],
   "source": [
    "%%R -w3 -h3 -uin -i df\n",
    "\n",
    "ggplot(data=df) +\n",
    "    geom_point(aes(x=x, y=y, shape=b), col='red') +\n",
    "    scale_shape_manual(values=c('TRUE'=16, 'FALSE'=15)) +\n",
    "    coord_cartesian(xlim=c(0,1), ylim=c(0,1), expand=TRUE) +\n",
    "    theme(legend.position='none')"
   ]
  },
  {
   "cell_type": "code",
   "execution_count": null,
   "metadata": {
    "pycharm": {
     "is_executing": false
    }
   },
   "outputs": [],
   "source": [
    "%%R -w3 -h3 -uin -i df\n",
    "\n",
    "ggplot(data=df) +\n",
    "    geom_point(aes(x=x, y=y, col=factor(d))) +\n",
    "    scale_colour_brewer(type='qual', palette='Set1') +\n",
    "    coord_cartesian(xlim=c(0,1), ylim=c(0,1), expand=TRUE) +\n",
    "    theme(legend.position='none')"
   ]
  },
  {
   "cell_type": "code",
   "execution_count": null,
   "metadata": {
    "pycharm": {
     "is_executing": false
    }
   },
   "outputs": [],
   "source": [
    "import sklearn.linear_model\n",
    "\n",
    "url = 'https://teachingfiles.blob.core.windows.net/datasets/climate.csv'\n",
    "climate = pandas.read_csv(url)\n",
    "climate['temp'] = (climate.tmin + climate.tmax) / 2\n",
    "climate['t'] = climate.yyyy + (climate.mm - 1) / 12\n",
    "df = climate.loc[(climate.station=='Cambridge') & (~pandas.isnull(climate.temp)),\n",
    "                ['t','temp']]"
   ]
  },
  {
   "cell_type": "code",
   "execution_count": null,
   "metadata": {
    "pycharm": {
     "is_executing": false
    }
   },
   "outputs": [],
   "source": [
    "%%R -w8 -h1.5 -uin -i df\n",
    "\n",
    "ggplot(data=df) +\n",
    "    geom_line(aes(x=t, y=temp), col=gray(.5)) +\n",
    "    geom_point(aes(x=t, y=temp)) +\n",
    "    scale_x_continuous(breaks=seq(2000,2020,by=5)) +\n",
    "    scale_y_continuous(breaks=c(0,10,20)) +\n",
    "    coord_cartesian(xlim=c(2000,2020))"
   ]
  },
  {
   "cell_type": "code",
   "execution_count": null,
   "metadata": {
    "pycharm": {
     "is_executing": false
    }
   },
   "outputs": [],
   "source": [
    "%%R -w8 -h6 -uin -i df\n",
    "\n",
    "ggplot(data=df) +\n",
    "    geom_line(aes(x=t, y=temp), col=gray(.5)) +\n",
    "    geom_point(aes(x=t, y=temp)) +\n",
    "    scale_x_continuous(breaks=seq(2000,2020,by=5)) +\n",
    "    coord_cartesian(xlim=c(2000,2020))"
   ]
  },
  {
   "cell_type": "markdown",
   "metadata": {},
   "source": [
    "# 4. Making comparisons"
   ]
  },
  {
   "cell_type": "code",
   "execution_count": null,
   "metadata": {
    "pycharm": {
     "is_executing": false
    }
   },
   "outputs": [],
   "source": [
    "# Predictive accuracy of various ML classifiers on data from 10 patients.\n",
    "# Data is copied from a talk at Addenbrookes.\n",
    "\n",
    "import io\n",
    "\n",
    "scans = pandas.read_csv(io.StringIO(\"\"\"\\\n",
    "patient,gtv,lasso,owl,crl\n",
    "p1, 0.281, 0.237, 0.268, 0.238\n",
    "p2, 0.289, 0.228, 0.28,  0.228\n",
    "p3, 0.291, 0.197, 0.28,  0.197\n",
    "p4, 0.279, 0.207, 0.279, 0.208\n",
    "p5, 0.291, 0.207, 0.28,  0.207\n",
    "p6, 0.239, 0.197, 0.239, 0.197\n",
    "p7, 0.301, 0.209, 0.28,  0.209\n",
    "p8, 0.281, 0.208, 0.27,  0.208\n",
    "p9, 0.25,  0.25,  0.26,  0.25\n",
    "p10, 0.27, 0.229, 0.292, 0.229\n",
    "\"\"\"))\n",
    "scans = pandas.melt(scans, id_vars='patient', var_name='method', value_name='accuracy')"
   ]
  },
  {
   "cell_type": "code",
   "execution_count": null,
   "metadata": {
    "pycharm": {
     "is_executing": false
    }
   },
   "outputs": [],
   "source": [
    "%%R -w5 -h4 -uin -i scans\n",
    "\n",
    "ggplot(data=scans) +\n",
    "    geom_bar(aes(x=method, fill=method, y=accuracy), stat='identity') +\n",
    "    facet_grid(~patient) +\n",
    "    theme(text=element_text(size=15), axis.text.x=element_blank(), axis.ticks.x=element_blank())"
   ]
  },
  {
   "cell_type": "code",
   "execution_count": null,
   "metadata": {
    "pycharm": {
     "is_executing": false
    }
   },
   "outputs": [],
   "source": [
    "%%R -w4 -h3 -uin -i scans\n",
    "\n",
    "scans$method <- factor(scans$method, levels=c('gtv','owl','lasso','crl'))\n",
    "\n",
    "ggplot(data=scans) +\n",
    "    geom_line(aes(x=method, y=accuracy, group=patient, col=patient), stat='identity')"
   ]
  },
  {
   "cell_type": "markdown",
   "metadata": {},
   "source": [
    "# 5. Atomic plots"
   ]
  },
  {
   "cell_type": "code",
   "execution_count": null,
   "metadata": {
    "pycharm": {
     "is_executing": false
    }
   },
   "outputs": [],
   "source": [
    "url = 'https://teachingfiles.blob.core.windows.net/datasets/mpg.csv'\n",
    "mpg = pandas.read_csv(url)"
   ]
  },
  {
   "cell_type": "code",
   "execution_count": null,
   "metadata": {
    "pycharm": {
     "is_executing": false
    }
   },
   "outputs": [],
   "source": [
    "%%R -w4 -h3 -uin -i mpg\n",
    "\n",
    "ggplot(data=mpg) + \n",
    "    geom_histogram(aes(x=hwy), bins=30, fill='cornflowerblue', alpha=.8, col='white', size=.3) + \n",
    "    xlab('mpg') + ylab(NULL)"
   ]
  },
  {
   "cell_type": "code",
   "execution_count": null,
   "metadata": {
    "pycharm": {
     "is_executing": false
    }
   },
   "outputs": [],
   "source": [
    "%%R -w4 -h3 -uin -i mpg\n",
    "\n",
    "ggplot(data=mpg) + \n",
    "    geom_dotplot(aes(x=hwy), binwidth=.7, fill='cornflowerblue', stroke=.2, dotsize=.8, stackratio=1.2) +\n",
    "    xlab('mpg') + ylab(NULL)"
   ]
  },
  {
   "cell_type": "code",
   "execution_count": null,
   "metadata": {
    "pycharm": {
     "is_executing": false
    }
   },
   "outputs": [],
   "source": [
    "%%R -w4 -h4 -uin -i mpg\n",
    "\n",
    "ggplot(mpg) + \n",
    "    geom_boxplot(aes(x=class, y=hwy, fill=class), size=.3) +\n",
    "    xlab(NULL) + ylab('mpg') +\n",
    "    scale_fill_brewer(type='qual') +\n",
    "    guides(fill=FALSE) +\n",
    "    theme(text = element_text(size=16), axis.text.x = element_text(angle=-55, hjust=0))"
   ]
  },
  {
   "cell_type": "code",
   "execution_count": null,
   "metadata": {
    "pycharm": {
     "is_executing": false
    }
   },
   "outputs": [],
   "source": [
    "%%R -w4 -h4 -uin -i mpg\n",
    "\n",
    "ggplot(mpg) +\n",
    "    geom_violin(aes(x=class, y=hwy, fill=class), size=.3) + \n",
    "    xlab(NULL) + ylab('mpg') +\n",
    "    theme(axis.text.x = element_text(angle = -55, hjust = 0)) +\n",
    "    scale_fill_brewer(type='qual') +\n",
    "    guides(fill=FALSE) +\n",
    "    theme(text = element_text(size=16), axis.text.x = element_text(angle=-55, hjust=0))"
   ]
  },
  {
   "cell_type": "code",
   "execution_count": null,
   "metadata": {
    "pycharm": {
     "is_executing": false
    }
   },
   "outputs": [],
   "source": [
    "%%R -w4 -h4 -uin -i mpg\n",
    "\n",
    "ggplot(data=mpg) + \n",
    "    geom_dotplot(aes(x=class, y=hwy, fill=class), binwidth=.7, binaxis='y', stroke=.2, dotsize=1.1, stackratio=0.8, stackdir='center') +\n",
    "    xlab(NULL) + ylab('mpg') +\n",
    "    scale_fill_brewer(type='qual') +\n",
    "    guides(fill=FALSE) +\n",
    "    theme(text = element_text(size=16), axis.text.x = element_text(angle=-55, hjust=0))"
   ]
  },
  {
   "cell_type": "code",
   "execution_count": null,
   "metadata": {
    "pycharm": {
     "is_executing": false
    }
   },
   "outputs": [],
   "source": []
  }
 ],
 "metadata": {
  "kernelspec": {
   "display_name": "Python 3",
   "language": "python",
   "name": "python3"
  },
  "language_info": {
   "codemirror_mode": {
    "name": "ipython",
    "version": 3
   },
   "file_extension": ".py",
   "mimetype": "text/x-python",
   "name": "python",
   "nbconvert_exporter": "python",
   "pygments_lexer": "ipython3",
   "version": "3.7.5"
  }
 },
 "nbformat": 4,
 "nbformat_minor": 4
}
