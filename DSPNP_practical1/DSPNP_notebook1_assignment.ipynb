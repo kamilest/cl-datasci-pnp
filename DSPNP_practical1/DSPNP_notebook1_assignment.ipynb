{
 "cells": [
  {
   "cell_type": "markdown",
   "metadata": {},
   "source": [
    "# Assignment 1\n",
    "\n",
    "## Step 1: Uploading and inspecting the data\n",
    "\n",
    "* `head()` for getting a first few rows of the dataset, looking at the kind of values\n",
    "* `info()` for getting the description of the data columns\n",
    "* `value_counts()` for counting the instances of each value in categorical variable (maybe would work for floating-point but results would be rather meaningless).\n",
    "* `describe()` for per-feature summary statistics\n",
    "\n",
    "*Questions on interpretation of the dataset from* `describe()`:\n",
    "1. *Interpreting the values.* Not sure what is meant there. The method just returns per-column (feature) summary statistics.\n",
    "2. *Meaning of percentiles.* Percentiles tell how much the distribution is skewed based on how far away the median is from each of the quartiles—`households` column is one such example where distribution is skewed to the left (or tail-heavy?).\n",
    "3. *Handling of missing values.* Documentation says `NaN` by default, which would be skipped in computing statistics (`skipna=True` by default) but would be kept in arrays and propagate through arithmetic calculations. When all values are `NaN` result in automatic statistic calculation is 0.\n",
    "\n",
    "## Step 2: Splitting the data into training and test sets\n",
    "\n",
    "* `np.random.permutation(len(data))` for shuffling the indices and then taking `test_indices` and `train_indices` from this accordingly;\n",
    "  * `data.iloc[train_indices]` for retrieving the data\n",
    "* `from sklearn.model_selection import train_test_split` for automatically splitting the dataset by describing the fraction of test data\n",
    "* stratified sampling to get similar train and test distributions if some features are imbalanced—both distributions will be more representative\n",
    "* binning to limit the number of strata\n",
    "  * `from sklearn.model_selection import StratifiedShuffleSplit`\n",
    "  * split based on a categorical attribute: `split.split(df, df[\"attr\"])`\n",
    "  \n",
    "## Step 3: Exploring the attributes\n",
    "\n",
    "* Visualisation to \n",
    "  * see most informative attributes \n",
    "  * observe correlations with target label using scatter matrix\n",
    "  * observe the need for normalisation/scaling\n",
    "  * can also indicate the artifacts in the data that would need cleaning up\n",
    "* Create extra features\n",
    "\n",
    "## Step 4: Data preparation and transformations of machine learning algorithms\n",
    "\n",
    "Required for:\n",
    "* handling missing values (if any)\n",
    "  * `from sklearn.impute import SimpleImputer`, `imputer.fit(df)`, `imputer.transform`\n",
    "* converting attribute values into numerical format (e.g. transform categorical data into numbers)—*is this actually needed? and it doesn't really make sense for a regression task anyway, especially if there is no 'increasing' ordering to categories*\n",
    "  * numeric value makes the least sense but one-hot encoding using `sklearn.preprocessing.OneHotEncoder`+`sklearn.preprocessing.LabelBinarizer` is better\n",
    "* scaling or normalising data\n",
    "* data transformers and pipelines for connecting transformations together with `fit`/`transform`/`fit_transform`\n",
    "* `FeatureUnion` for connecting together several pipelines (one for each type of feature of categorical/numerical\n",
    "\n",
    "\n",
    "## Step 5: Implementation, evaluation and fine-tuning of a regression model"
   ]
  },
  {
   "cell_type": "code",
   "execution_count": null,
   "metadata": {},
   "outputs": [],
   "source": []
  }
 ],
 "metadata": {
  "kernelspec": {
   "display_name": "Python 3",
   "language": "python",
   "name": "python3"
  },
  "language_info": {
   "codemirror_mode": {
    "name": "ipython",
    "version": 3
   },
   "file_extension": ".py",
   "mimetype": "text/x-python",
   "name": "python",
   "nbconvert_exporter": "python",
   "pygments_lexer": "ipython3",
   "version": "3.7.3"
  }
 },
 "nbformat": 4,
 "nbformat_minor": 2
}
