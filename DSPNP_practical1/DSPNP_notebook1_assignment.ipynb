{
 "cells": [
  {
   "cell_type": "markdown",
   "metadata": {},
   "source": [
    "# Assignment 1\n",
    "\n",
    "## Step 1: Uploading and inspecting the data\n",
    "\n",
    "* `head()` for getting a first few rows of the dataset, looking at the kind of values\n",
    "* `info()` for getting the description of the data columns\n",
    "* `value_counts()` for counting the instances of each value in categorical variable (maybe would work for floating-point but results would be rather meaningless).\n",
    "* `describe()` for per-feature summary statistics\n",
    "\n",
    "*Questions on interpretation of the dataset from* `describe()`:\n",
    "1. *Interpreting the values.* Not sure what is meant there. The method just returns per-column (feature) summary statistics.\n",
    "2. *Meaning of percentiles.* Percentiles tell how much the distribution is skewed based on how far away the median is from each of the quartiles—`households` column is one such example where distribution is skewed to the left (or tail-heavy?).\n",
    "3. *Handling of missing values.* Documentation says `NaN` by default, which would be skipped in computing statistics (`skipna=True` by default) but would be kept in arrays and propagate through arithmetic calculations. When all values are `NaN` result in automatic statistic calculation is 0.\n",
    "\n",
    "## Step 2: Splitting the data into training and test sets\n",
    "\n",
    "* `np.random.permutation(len(data))` for shuffling the indices and then taking `test_indices` and `train_indices` from this accordingly;\n",
    "  * `data.iloc[train_indices]` for retrieving the data\n",
    "* `from sklearn.model_selection import train_test_split` for automatically splitting the dataset by describing the fraction of test data\n",
    "* stratified sampling to get similar train and test distributions if some features are imbalanced—both distributions will be more representative\n",
    "* binning to limit the number of strata\n",
    "  * `from sklearn.model_selection import StratifiedShuffleSplit`\n",
    "  * split based on a categorical attribute: `split.split(df, df[\"attr\"])`\n",
    "  \n",
    "## Step 3: Exploring the attributes\n",
    "\n",
    "* Visualisation to \n",
    "  * see most informative attributes \n",
    "  * observe correlations with target label using scatter matrix\n",
    "  * observe the need for normalisation/scaling\n",
    "  * can also indicate the artifacts in the data that would need cleaning up\n",
    "* Create extra features\n",
    "\n",
    "## Step 4: Data preparation and transformations of machine learning algorithms\n",
    "\n",
    "Required for:\n",
    "* handling missing values (if any)\n",
    "  * `from sklearn.impute import SimpleImputer`, `imputer.fit(df)`, `imputer.transform`\n",
    "* converting attribute values into numerical format (e.g. transform categorical data into numbers)—*is this actually needed? and it doesn't really make sense for a regression task anyway, especially if there is no 'increasing' ordering to categories*\n",
    "  * numeric value makes the least sense but one-hot encoding using `sklearn.preprocessing.OneHotEncoder`+`sklearn.preprocessing.LabelBinarizer` is better\n",
    "* scaling or normalising data\n",
    "* data transformers and pipelines for connecting transformations together with `fit`/`transform`/`fit_transform`\n",
    "* `FeatureUnion` for connecting together several pipelines (one for each type of feature of categorical/numerical\n",
    "\n",
    "\n",
    "## Step 5: Implementation, evaluation and fine-tuning of a regression model\n",
    "\n",
    "* training, testing, cross-validation—the usual."
   ]
  },
  {
   "cell_type": "markdown",
   "metadata": {},
   "source": [
    "# Task 2: Experimenting with different steps in the ML pipeline\n",
    "\n",
    "First implement the base of the ML pipeline. The full pipeline is in `DSPNP_practical1.py` for convenience."
   ]
  },
  {
   "cell_type": "markdown",
   "metadata": {},
   "source": [
    "## Evaluating performance of simple linear regression"
   ]
  },
  {
   "cell_type": "markdown",
   "metadata": {},
   "source": [
    "## 2.1 Dropping less informative features\n",
    "<a id='2.1'></a>\n",
    "\n",
    "Instead of adding features with `add_features`, we derive a method for removing less informative features.\n",
    "\n",
    "From the correlation matrix other data analysis, we can try removing features that correlate the least with the label (correlation is closest to 0). Here I set the threshold for removing the feature at `corr` $\\leq 0.1$."
   ]
  },
  {
   "cell_type": "code",
   "execution_count": null,
   "metadata": {},
   "outputs": [],
   "source": [
    "def drop_uncorrelated_features(housing, housing_labels, threshold=0.1, inplace=False):\n",
    "    corr_matrix = housing.corrwith(housing_labels)\n",
    "    result = housing.copy()\n",
    "    for feature_name in corr_matrix.keys():\n",
    "        if abs(corr_matrix[feature_name]) <= threshold:\n",
    "            result = result.drop(feature_name, axis=1, inplace=inplace)\n",
    "    return result\n",
    "\n",
    "housing = drop_uncorrelated_features(housing, housing_labels)\n",
    "housing.info()"
   ]
  },
  {
   "cell_type": "markdown",
   "metadata": {},
   "source": [
    "Training the linear regression model: set `housing` to `housing_less_features` and run the cells for training again."
   ]
  },
  {
   "cell_type": "markdown",
   "metadata": {},
   "source": [
    "Running the modified program returns:\n",
    "```\n",
    "lin_mrse on training set: 73093.17121767759\n",
    "lin_mrse on training set with polynomial features 66716.81487965639\n",
    "mrse on training set with decision tree regressor 0.0\n",
    "cv mean on decision tree 85124.75530845068\n",
    "cv mean on linear regression 73121.46790577391\n",
    "cv mean on random forest 65498.2321784392\n",
    "rmse on random forest grid search 61577.52437907747\n",
    "```"
   ]
  },
  {
   "cell_type": "markdown",
   "metadata": {},
   "source": [
    "The errors can be plotted as follows"
   ]
  },
  {
   "cell_type": "code",
   "execution_count": 37,
   "metadata": {},
   "outputs": [
    {
     "data": {
      "image/png": "[encoded data removed]",
      "text/plain": [
       "<Figure size 432x288 with 1 Axes>"
      ]
     },
     "metadata": {
      "needs_background": "light"
     },
     "output_type": "display_data"
    }
   ],
   "source": [
    "baseline = {\"lin_rmse\": 67912.11389345869, \n",
    "                   \"poly_rmse\": 50845.991750972935, \n",
    "                   \"tree_cv\": 71398.43250937833, \n",
    "                   \"lin_cv\": 68193.13973080671, \n",
    "                   \"forest_cv\": 52833.36700903783, \n",
    "                   \"final_rmse\": 49109.221590658875\n",
    "                  }\n",
    "less_features = {\"lin_rmse\": 73093.17, \n",
    "                   \"poly_rmse\": 66716.81, \n",
    "                   \"tree_cv\": 85124.76, \n",
    "                   \"lin_cv\": 73121.47, \n",
    "                   \"forest_cv\": 65498.23, \n",
    "                   \"final_rmse\": 61577.52\n",
    "                  }\n",
    "\n",
    "X = np.arange(len(baseline))\n",
    "ax = plt.subplot(111)\n",
    "ax.bar(X, baseline.values(), width=0.2, align='center', color=cm.Accent(0))\n",
    "ax.bar(X+0.2, less_features.values(), width=0.2, align='center', color=cm.Accent(0.5))\n",
    "ax.legend(('Baseline','Less features'))\n",
    "plt.xticks(X, baseline.keys())\n",
    "plt.show()"
   ]
  },
  {
   "cell_type": "markdown",
   "metadata": {},
   "source": [
    "So in all cases the dropped features resulted in higher accuracy error when cross validation threshold was 0.1. Choosing a smaller threshold of 0.05 we get:"
   ]
  },
  {
   "cell_type": "code",
   "execution_count": 43,
   "metadata": {},
   "outputs": [
    {
     "data": {
      "image/png": "[encoded data removed]",
      "text/plain": [
       "<Figure size 432x288 with 1 Axes>"
      ]
     },
     "metadata": {
      "needs_background": "light"
     },
     "output_type": "display_data"
    }
   ],
   "source": [
    "less_features2 = {\"lin_rmse\": 72528.01, \n",
    "                   \"poly_rmse\": 65024.48, \n",
    "                   \"tree_cv\": 84517.32, \n",
    "                   \"lin_cv\": 72561.17, \n",
    "                   \"forest_cv\": 64665.28, \n",
    "                   \"final_rmse\": 61309.45\n",
    "                  }\n",
    "\n",
    "no_added_features = {'lin_rmse': 68867.01067610044, 'poly_rmse': 54170.52333040635, 'tree_cv': 69627.27073023257, 'lin_cv': 69049.01752253594, 'forest_cv': 52237.723217865576, 'final_rmse': 47895.91870517628}\n",
    "\n",
    "X = np.arange(len(baseline))\n",
    "ax = plt.subplot(111)\n",
    "ax.bar(X, baseline.values(), width=0.2, align='center', color=cm.Accent(0))\n",
    "ax.bar(X+0.2, less_features.values(), width=0.2, align='center', color=cm.Accent(0.5))\n",
    "ax.bar(X+0.4, less_features2.values(), width=0.2, align='center', color=cm.Accent(1))\n",
    "ax.bar(X+0.6, no_added_features.values(), width=0.2, align='center', color=cm.Accent(1.5))\n",
    "ax.legend(('Baseline','Less features (0.1)', 'Less features (0.05)', 'No added features'), fontsize='x-small')\n",
    "plt.xticks(X, baseline.keys())\n",
    "plt.show()"
   ]
  },
  {
   "cell_type": "markdown",
   "metadata": {},
   "source": [
    "This suggests that having less features does not help, especially when the features that were removed were the basis of derived features that were added to the original pipeline before prepropcessing (e.g. `households`, `total_bedrooms`)."
   ]
  },
  {
   "cell_type": "markdown",
   "metadata": {},
   "source": [
    "## 2.2 Using alternative preprocessing options\n",
    "\n",
    "### `SimpleImputer` strategies"
   ]
  },
  {
   "cell_type": "markdown",
   "metadata": {},
   "source": [
    "Running `mean` strategy returns:\n",
    "```\n",
    "lin_mrse on training set: 68000.42895660167\n",
    "lin_mrse on training set with polynomial features 50822.21020303031\n",
    "mrse on training set with decision tree regressor 0.0\n",
    "cv mean on decision tree 70998.06072906117\n",
    "cv mean on linear regression 68290.89012364062\n",
    "cv mean on random forest 52763.53415107423\n",
    "rmse on random forest grid search 48711.22322837824\n",
    "```\n",
    "\n",
    "`most_frequent`:\n",
    "```\n",
    "lin_mrse on training set: 67815.59017745727\n",
    "lin_mrse on training set with polynomial features 50903.48056700182\n",
    "mrse on training set with decision tree regressor 0.0\n",
    "cv mean on decision tree 71901.68563614726\n",
    "cv mean on linear regression 68116.87076630608\n",
    "cv mean on random forest 52842.73097528787\n",
    "rmse on random forest grid search 48774.06861384708\n",
    "```\n",
    "\n",
    "Plotting this gives"
   ]
  },
  {
   "cell_type": "code",
   "execution_count": 40,
   "metadata": {},
   "outputs": [
    {
     "data": {
      "image/png": "[encoded data removed]",
      "text/plain": [
       "<Figure size 432x288 with 1 Axes>"
      ]
     },
     "metadata": {
      "needs_background": "light"
     },
     "output_type": "display_data"
    }
   ],
   "source": [
    "mean_strategy = {\"lin_rmse\": 68000.42895660167, \n",
    "                   \"poly_rmse\": 50822.21020303031, \n",
    "                   \"tree_cv\": 70998.06072906117, \n",
    "                   \"lin_cv\": 68290.89012364062, \n",
    "                   \"forest_cv\": 52763.53415107423, \n",
    "                   \"final_rmse\": 48711.22322837824\n",
    "                  }\n",
    "mode_strategy = {\"lin_rmse\": 67815.59017745727, \n",
    "                   \"poly_rmse\": 50903.48056700182, \n",
    "                   \"tree_cv\": 71901.68563614726, \n",
    "                   \"lin_cv\": 68116.87076630608, \n",
    "                   \"forest_cv\": 52842.73097528787, \n",
    "                   \"final_rmse\": 48774.06861384708\n",
    "                  }\n",
    "\n",
    "X = np.arange(len(baseline))\n",
    "ax = plt.subplot(111)\n",
    "ax.bar(X, baseline.values(), width=0.2, align='center', color=cm.Accent(0))\n",
    "ax.bar(X+0.2, mean_strategy.values(), width=0.2, align='center', color=cm.Accent(0.5))\n",
    "ax.bar(X+0.4, mode_strategy.values(), width=0.2, align='center', color=cm.Accent(1))\n",
    "ax.legend(('median', 'mean', 'mode'))\n",
    "plt.xticks(X, baseline.keys())\n",
    "plt.show()"
   ]
  },
  {
   "cell_type": "markdown",
   "metadata": {},
   "source": [
    "So the imputer strategy does not seem to affect much.\n",
    "\n",
    "### Scaling strategies\n",
    "\n",
    "The following plot compares the `StandardScaler`, `MinMaxScaler`, and no scaler."
   ]
  },
  {
   "cell_type": "code",
   "execution_count": 41,
   "metadata": {},
   "outputs": [
    {
     "data": {
      "image/png": "[encoded data removed]",
      "text/plain": [
       "<Figure size 432x288 with 1 Axes>"
      ]
     },
     "metadata": {
      "needs_background": "light"
     },
     "output_type": "display_data"
    }
   ],
   "source": [
    "min_max_scaler = {'lin_rmse': 67912.11389345869, 'poly_rmse': 50845.99150820819, 'tree_cv': 71560.08913430922, 'lin_cv': 68190.2754746336, 'forest_cv': 52696.00120067185, 'final_rmse': 48617.70748971388}\n",
    "no_scaler = {'lin_rmse': 67912.11389345869, 'poly_rmse': 51372.93006301948, 'tree_cv': 71310.20271422988, 'lin_cv': 68193.13973080683, 'forest_cv': 52896.08288665601, 'final_rmse': 49116.290374650256}\n",
    "\n",
    "X = np.arange(len(baseline))\n",
    "ax = plt.subplot(111)\n",
    "ax.bar(X, baseline.values(), width=0.2, align='center', color=cm.Accent(0))\n",
    "ax.bar(X+0.2, min_max_scaler.values(), width=0.2, align='center', color=cm.Accent(0.5))\n",
    "ax.bar(X+0.4, no_scaler.values(), width=0.2, align='center', color=cm.Accent(1))\n",
    "ax.legend(('standard', 'minmax', 'none'))\n",
    "plt.xticks(X, baseline.keys())\n",
    "plt.show()"
   ]
  },
  {
   "cell_type": "markdown",
   "metadata": {},
   "source": [
    "## 2.3 Evaluating simple linear regression performance on test set\n",
    "\n",
    "Setting `final_model = lin_reg` gives\n",
    "```\n",
    "final_rmse = 66802.72939609885\n",
    "```\n",
    "\n",
    "which is around 36% higher than the random forest model with grid search."
   ]
  },
  {
   "cell_type": "markdown",
   "metadata": {},
   "source": [
    "# Task 3: Bike sharing dataset"
   ]
  },
  {
   "cell_type": "code",
   "execution_count": null,
   "metadata": {},
   "outputs": [],
   "source": []
  }
 ],
 "metadata": {
  "kernelspec": {
   "display_name": "Python 3",
   "language": "python",
   "name": "python3"
  },
  "language_info": {
   "codemirror_mode": {
    "name": "ipython",
    "version": 3
   },
   "file_extension": ".py",
   "mimetype": "text/x-python",
   "name": "python",
   "nbconvert_exporter": "python",
   "pygments_lexer": "ipython3",
   "version": "3.7.3"
  }
 },
 "nbformat": 4,
 "nbformat_minor": 2
}
