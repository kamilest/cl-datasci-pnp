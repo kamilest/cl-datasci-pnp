{
 "cells": [
  {
   "cell_type": "code",
   "execution_count": 1,
   "metadata": {},
   "outputs": [],
   "source": [
    "import tensorflow as tf\n",
    "import tensorflow.keras as keras\n",
    "import pandas as pd\n",
    "import numpy as np\n",
    "import scipy\n",
    "import matplotlib.pyplot as plt\n",
    "\n",
    "import seaborn as sns\n",
    "import matplotlib\n",
    "from matplotlib import pyplot as plt\n",
    "%matplotlib inline"
   ]
  },
  {
   "cell_type": "code",
   "execution_count": 2,
   "metadata": {},
   "outputs": [],
   "source": [
    "dfmodels = pd.read_csv('results/model_summary.csv', index_col=0)"
   ]
  },
  {
   "cell_type": "code",
   "execution_count": 3,
   "metadata": {},
   "outputs": [
    {
     "data": {
      "text/html": [
       "<div>\n",
       "<style scoped>\n",
       "    .dataframe tbody tr th:only-of-type {\n",
       "        vertical-align: middle;\n",
       "    }\n",
       "\n",
       "    .dataframe tbody tr th {\n",
       "        vertical-align: top;\n",
       "    }\n",
       "\n",
       "    .dataframe thead th {\n",
       "        text-align: right;\n",
       "    }\n",
       "</style>\n",
       "<table border=\"1\" class=\"dataframe\">\n",
       "  <thead>\n",
       "    <tr style=\"text-align: right;\">\n",
       "      <th></th>\n",
       "      <th>depth</th>\n",
       "      <th>num_parameters</th>\n",
       "      <th>feature_set</th>\n",
       "      <th>mean_train_r</th>\n",
       "      <th>mean_dev_r</th>\n",
       "      <th>mean_training_time</th>\n",
       "    </tr>\n",
       "  </thead>\n",
       "  <tbody>\n",
       "    <tr>\n",
       "      <th>0</th>\n",
       "      <td>deep</td>\n",
       "      <td>6167553</td>\n",
       "      <td>full</td>\n",
       "      <td>0.207707</td>\n",
       "      <td>0.127014</td>\n",
       "      <td>276</td>\n",
       "    </tr>\n",
       "    <tr>\n",
       "      <th>1</th>\n",
       "      <td>deep</td>\n",
       "      <td>6167553</td>\n",
       "      <td>pca</td>\n",
       "      <td>0.227564</td>\n",
       "      <td>0.168103</td>\n",
       "      <td>237</td>\n",
       "    </tr>\n",
       "    <tr>\n",
       "      <th>2</th>\n",
       "      <td>deep</td>\n",
       "      <td>6057985</td>\n",
       "      <td>pca_reduced</td>\n",
       "      <td>0.178007</td>\n",
       "      <td>0.115880</td>\n",
       "      <td>269</td>\n",
       "    </tr>\n",
       "    <tr>\n",
       "      <th>3</th>\n",
       "      <td>moderate</td>\n",
       "      <td>3541505</td>\n",
       "      <td>full</td>\n",
       "      <td>0.375782</td>\n",
       "      <td>0.178431</td>\n",
       "      <td>84</td>\n",
       "    </tr>\n",
       "    <tr>\n",
       "      <th>4</th>\n",
       "      <td>moderate</td>\n",
       "      <td>3541505</td>\n",
       "      <td>pca</td>\n",
       "      <td>0.386659</td>\n",
       "      <td>0.210108</td>\n",
       "      <td>85</td>\n",
       "    </tr>\n",
       "    <tr>\n",
       "      <th>5</th>\n",
       "      <td>moderate</td>\n",
       "      <td>3431937</td>\n",
       "      <td>pca_reduced</td>\n",
       "      <td>0.359613</td>\n",
       "      <td>0.191398</td>\n",
       "      <td>88</td>\n",
       "    </tr>\n",
       "    <tr>\n",
       "      <th>6</th>\n",
       "      <td>shallow</td>\n",
       "      <td>284161</td>\n",
       "      <td>full</td>\n",
       "      <td>0.458004</td>\n",
       "      <td>0.207407</td>\n",
       "      <td>35</td>\n",
       "    </tr>\n",
       "    <tr>\n",
       "      <th>7</th>\n",
       "      <td>shallow</td>\n",
       "      <td>284161</td>\n",
       "      <td>pca</td>\n",
       "      <td>0.440715</td>\n",
       "      <td>0.193095</td>\n",
       "      <td>20</td>\n",
       "    </tr>\n",
       "    <tr>\n",
       "      <th>8</th>\n",
       "      <td>shallow</td>\n",
       "      <td>229377</td>\n",
       "      <td>pca_reduced</td>\n",
       "      <td>0.374142</td>\n",
       "      <td>0.149468</td>\n",
       "      <td>20</td>\n",
       "    </tr>\n",
       "  </tbody>\n",
       "</table>\n",
       "</div>"
      ],
      "text/plain": [
       "      depth  num_parameters  feature_set  mean_train_r  mean_dev_r  \\\n",
       "0      deep         6167553         full      0.207707    0.127014   \n",
       "1      deep         6167553          pca      0.227564    0.168103   \n",
       "2      deep         6057985  pca_reduced      0.178007    0.115880   \n",
       "3  moderate         3541505         full      0.375782    0.178431   \n",
       "4  moderate         3541505          pca      0.386659    0.210108   \n",
       "5  moderate         3431937  pca_reduced      0.359613    0.191398   \n",
       "6   shallow          284161         full      0.458004    0.207407   \n",
       "7   shallow          284161          pca      0.440715    0.193095   \n",
       "8   shallow          229377  pca_reduced      0.374142    0.149468   \n",
       "\n",
       "   mean_training_time  \n",
       "0                 276  \n",
       "1                 237  \n",
       "2                 269  \n",
       "3                  84  \n",
       "4                  85  \n",
       "5                  88  \n",
       "6                  35  \n",
       "7                  20  \n",
       "8                  20  "
      ]
     },
     "execution_count": 3,
     "metadata": {},
     "output_type": "execute_result"
    }
   ],
   "source": [
    "dfmodels"
   ]
  },
  {
   "cell_type": "code",
   "execution_count": 49,
   "metadata": {},
   "outputs": [
    {
     "data": {
      "text/html": [
       "<div>\n",
       "<style scoped>\n",
       "    .dataframe tbody tr th:only-of-type {\n",
       "        vertical-align: middle;\n",
       "    }\n",
       "\n",
       "    .dataframe tbody tr th {\n",
       "        vertical-align: top;\n",
       "    }\n",
       "\n",
       "    .dataframe thead th {\n",
       "        text-align: right;\n",
       "    }\n",
       "</style>\n",
       "<table border=\"1\" class=\"dataframe\">\n",
       "  <thead>\n",
       "    <tr style=\"text-align: right;\">\n",
       "      <th>feature_set</th>\n",
       "      <th>full</th>\n",
       "      <th>pca</th>\n",
       "      <th>pca_reduced</th>\n",
       "    </tr>\n",
       "    <tr>\n",
       "      <th>depth</th>\n",
       "      <th></th>\n",
       "      <th></th>\n",
       "      <th></th>\n",
       "    </tr>\n",
       "  </thead>\n",
       "  <tbody>\n",
       "    <tr>\n",
       "      <th>deep</th>\n",
       "      <td>276</td>\n",
       "      <td>237</td>\n",
       "      <td>269</td>\n",
       "    </tr>\n",
       "    <tr>\n",
       "      <th>moderate</th>\n",
       "      <td>84</td>\n",
       "      <td>85</td>\n",
       "      <td>88</td>\n",
       "    </tr>\n",
       "    <tr>\n",
       "      <th>shallow</th>\n",
       "      <td>35</td>\n",
       "      <td>20</td>\n",
       "      <td>20</td>\n",
       "    </tr>\n",
       "  </tbody>\n",
       "</table>\n",
       "</div>"
      ],
      "text/plain": [
       "feature_set  full  pca  pca_reduced\n",
       "depth                              \n",
       "deep          276  237          269\n",
       "moderate       84   85           88\n",
       "shallow        35   20           20"
      ]
     },
     "execution_count": 49,
     "metadata": {},
     "output_type": "execute_result"
    }
   ],
   "source": [
    "dfmodels.pivot(index='depth', columns='feature_set', values='mean_training_time')"
   ]
  },
  {
   "cell_type": "code",
   "execution_count": 50,
   "metadata": {},
   "outputs": [
    {
     "data": {
      "text/html": [
       "<div>\n",
       "<style scoped>\n",
       "    .dataframe tbody tr th:only-of-type {\n",
       "        vertical-align: middle;\n",
       "    }\n",
       "\n",
       "    .dataframe tbody tr th {\n",
       "        vertical-align: top;\n",
       "    }\n",
       "\n",
       "    .dataframe thead th {\n",
       "        text-align: right;\n",
       "    }\n",
       "</style>\n",
       "<table border=\"1\" class=\"dataframe\">\n",
       "  <thead>\n",
       "    <tr style=\"text-align: right;\">\n",
       "      <th>feature_set</th>\n",
       "      <th>full</th>\n",
       "      <th>pca</th>\n",
       "      <th>pca_reduced</th>\n",
       "    </tr>\n",
       "    <tr>\n",
       "      <th>depth</th>\n",
       "      <th></th>\n",
       "      <th></th>\n",
       "      <th></th>\n",
       "    </tr>\n",
       "  </thead>\n",
       "  <tbody>\n",
       "    <tr>\n",
       "      <th>deep</th>\n",
       "      <td>0.127014</td>\n",
       "      <td>0.168103</td>\n",
       "      <td>0.115880</td>\n",
       "    </tr>\n",
       "    <tr>\n",
       "      <th>moderate</th>\n",
       "      <td>0.178431</td>\n",
       "      <td>0.210108</td>\n",
       "      <td>0.191398</td>\n",
       "    </tr>\n",
       "    <tr>\n",
       "      <th>shallow</th>\n",
       "      <td>0.207407</td>\n",
       "      <td>0.193095</td>\n",
       "      <td>0.149468</td>\n",
       "    </tr>\n",
       "  </tbody>\n",
       "</table>\n",
       "</div>"
      ],
      "text/plain": [
       "feature_set      full       pca  pca_reduced\n",
       "depth                                       \n",
       "deep         0.127014  0.168103     0.115880\n",
       "moderate     0.178431  0.210108     0.191398\n",
       "shallow      0.207407  0.193095     0.149468"
      ]
     },
     "execution_count": 50,
     "metadata": {},
     "output_type": "execute_result"
    }
   ],
   "source": [
    "dfmodels.pivot(index='depth', columns='feature_set', values='mean_dev_r')"
   ]
  },
  {
   "cell_type": "code",
   "execution_count": null,
   "metadata": {},
   "outputs": [],
   "source": [
    "dfmodels[dfmodels['feature_set'] == 'full']"
   ]
  },
  {
   "cell_type": "code",
   "execution_count": 15,
   "metadata": {},
   "outputs": [
    {
     "data": {
      "text/plain": [
       "<matplotlib.axes._subplots.AxesSubplot at 0x14a339090>"
      ]
     },
     "execution_count": 15,
     "metadata": {},
     "output_type": "execute_result"
    },
    {
     "data": {
      "image/png": "[encoded data removed]",
      "text/plain": [
       "<Figure size 432x288 with 1 Axes>"
      ]
     },
     "metadata": {
      "needs_background": "light"
     },
     "output_type": "display_data"
    }
   ],
   "source": [
    "from pandas.plotting import parallel_coordinates\n",
    "parallel_coordinates(dfmodels[dfmodels['feature_set'] == 'full'], \n",
    "                     class_column='depth', \n",
    "                     cols=['mean_train_r', 'mean_dev_r'])"
   ]
  }
 ],
 "metadata": {
  "kernelspec": {
   "display_name": "Python 3",
   "language": "python",
   "name": "python3"
  },
  "language_info": {
   "codemirror_mode": {
    "name": "ipython",
    "version": 3
   },
   "file_extension": ".py",
   "mimetype": "text/x-python",
   "name": "python",
   "nbconvert_exporter": "python",
   "pygments_lexer": "ipython3",
   "version": "3.7.6"
  }
 },
 "nbformat": 4,
 "nbformat_minor": 4
}
