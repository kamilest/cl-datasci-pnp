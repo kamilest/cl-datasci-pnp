{
 "cells": [
  {
   "cell_type": "code",
   "execution_count": 1,
   "metadata": {},
   "outputs": [],
   "source": [
    "import tensorflow as tf\n",
    "import tensorflow.keras as keras\n",
    "import pandas as pd\n",
    "import numpy as np\n",
    "import scipy\n",
    "import matplotlib.pyplot as plt\n",
    "\n",
    "import seaborn as sns\n",
    "import matplotlib\n",
    "from matplotlib import pyplot as plt\n",
    "%matplotlib inline"
   ]
  },
  {
   "cell_type": "code",
   "execution_count": 2,
   "metadata": {},
   "outputs": [],
   "source": [
    "dfmodels = pd.read_csv('results/model_summary.csv', index_col=0)"
   ]
  },
  {
   "cell_type": "code",
   "execution_count": 3,
   "metadata": {},
   "outputs": [
    {
     "data": {
      "text/html": [
       "<div>\n",
       "<style scoped>\n",
       "    .dataframe tbody tr th:only-of-type {\n",
       "        vertical-align: middle;\n",
       "    }\n",
       "\n",
       "    .dataframe tbody tr th {\n",
       "        vertical-align: top;\n",
       "    }\n",
       "\n",
       "    .dataframe thead th {\n",
       "        text-align: right;\n",
       "    }\n",
       "</style>\n",
       "<table border=\"1\" class=\"dataframe\">\n",
       "  <thead>\n",
       "    <tr style=\"text-align: right;\">\n",
       "      <th></th>\n",
       "      <th>depth</th>\n",
       "      <th>num_parameters</th>\n",
       "      <th>feature_set</th>\n",
       "      <th>mean_train_r</th>\n",
       "      <th>mean_dev_r</th>\n",
       "      <th>mean_training_time</th>\n",
       "    </tr>\n",
       "  </thead>\n",
       "  <tbody>\n",
       "    <tr>\n",
       "      <th>0</th>\n",
       "      <td>deep</td>\n",
       "      <td>6167553</td>\n",
       "      <td>full</td>\n",
       "      <td>0.207707</td>\n",
       "      <td>0.127014</td>\n",
       "      <td>276</td>\n",
       "    </tr>\n",
       "    <tr>\n",
       "      <th>1</th>\n",
       "      <td>deep</td>\n",
       "      <td>6167553</td>\n",
       "      <td>pca</td>\n",
       "      <td>0.227564</td>\n",
       "      <td>0.168103</td>\n",
       "      <td>237</td>\n",
       "    </tr>\n",
       "    <tr>\n",
       "      <th>2</th>\n",
       "      <td>deep</td>\n",
       "      <td>6057985</td>\n",
       "      <td>pca_reduced</td>\n",
       "      <td>0.178007</td>\n",
       "      <td>0.115880</td>\n",
       "      <td>269</td>\n",
       "    </tr>\n",
       "    <tr>\n",
       "      <th>3</th>\n",
       "      <td>moderate</td>\n",
       "      <td>3541505</td>\n",
       "      <td>full</td>\n",
       "      <td>0.375782</td>\n",
       "      <td>0.178431</td>\n",
       "      <td>84</td>\n",
       "    </tr>\n",
       "    <tr>\n",
       "      <th>4</th>\n",
       "      <td>moderate</td>\n",
       "      <td>3541505</td>\n",
       "      <td>pca</td>\n",
       "      <td>0.386659</td>\n",
       "      <td>0.210108</td>\n",
       "      <td>85</td>\n",
       "    </tr>\n",
       "    <tr>\n",
       "      <th>5</th>\n",
       "      <td>moderate</td>\n",
       "      <td>3431937</td>\n",
       "      <td>pca_reduced</td>\n",
       "      <td>0.359613</td>\n",
       "      <td>0.191398</td>\n",
       "      <td>88</td>\n",
       "    </tr>\n",
       "    <tr>\n",
       "      <th>6</th>\n",
       "      <td>shallow</td>\n",
       "      <td>284161</td>\n",
       "      <td>full</td>\n",
       "      <td>0.458004</td>\n",
       "      <td>0.207407</td>\n",
       "      <td>35</td>\n",
       "    </tr>\n",
       "    <tr>\n",
       "      <th>7</th>\n",
       "      <td>shallow</td>\n",
       "      <td>284161</td>\n",
       "      <td>pca</td>\n",
       "      <td>0.440715</td>\n",
       "      <td>0.193095</td>\n",
       "      <td>20</td>\n",
       "    </tr>\n",
       "    <tr>\n",
       "      <th>8</th>\n",
       "      <td>shallow</td>\n",
       "      <td>229377</td>\n",
       "      <td>pca_reduced</td>\n",
       "      <td>0.374142</td>\n",
       "      <td>0.149468</td>\n",
       "      <td>20</td>\n",
       "    </tr>\n",
       "  </tbody>\n",
       "</table>\n",
       "</div>"
      ],
      "text/plain": [
       "      depth  num_parameters  feature_set  mean_train_r  mean_dev_r  \\\n",
       "0      deep         6167553         full      0.207707    0.127014   \n",
       "1      deep         6167553          pca      0.227564    0.168103   \n",
       "2      deep         6057985  pca_reduced      0.178007    0.115880   \n",
       "3  moderate         3541505         full      0.375782    0.178431   \n",
       "4  moderate         3541505          pca      0.386659    0.210108   \n",
       "5  moderate         3431937  pca_reduced      0.359613    0.191398   \n",
       "6   shallow          284161         full      0.458004    0.207407   \n",
       "7   shallow          284161          pca      0.440715    0.193095   \n",
       "8   shallow          229377  pca_reduced      0.374142    0.149468   \n",
       "\n",
       "   mean_training_time  \n",
       "0                 276  \n",
       "1                 237  \n",
       "2                 269  \n",
       "3                  84  \n",
       "4                  85  \n",
       "5                  88  \n",
       "6                  35  \n",
       "7                  20  \n",
       "8                  20  "
      ]
     },
     "execution_count": 3,
     "metadata": {},
     "output_type": "execute_result"
    }
   ],
   "source": [
    "dfmodels"
   ]
  },
  {
   "cell_type": "code",
   "execution_count": 49,
   "metadata": {},
   "outputs": [
    {
     "data": {
      "text/html": [
       "<div>\n",
       "<style scoped>\n",
       "    .dataframe tbody tr th:only-of-type {\n",
       "        vertical-align: middle;\n",
       "    }\n",
       "\n",
       "    .dataframe tbody tr th {\n",
       "        vertical-align: top;\n",
       "    }\n",
       "\n",
       "    .dataframe thead th {\n",
       "        text-align: right;\n",
       "    }\n",
       "</style>\n",
       "<table border=\"1\" class=\"dataframe\">\n",
       "  <thead>\n",
       "    <tr style=\"text-align: right;\">\n",
       "      <th>feature_set</th>\n",
       "      <th>full</th>\n",
       "      <th>pca</th>\n",
       "      <th>pca_reduced</th>\n",
       "    </tr>\n",
       "    <tr>\n",
       "      <th>depth</th>\n",
       "      <th></th>\n",
       "      <th></th>\n",
       "      <th></th>\n",
       "    </tr>\n",
       "  </thead>\n",
       "  <tbody>\n",
       "    <tr>\n",
       "      <th>deep</th>\n",
       "      <td>276</td>\n",
       "      <td>237</td>\n",
       "      <td>269</td>\n",
       "    </tr>\n",
       "    <tr>\n",
       "      <th>moderate</th>\n",
       "      <td>84</td>\n",
       "      <td>85</td>\n",
       "      <td>88</td>\n",
       "    </tr>\n",
       "    <tr>\n",
       "      <th>shallow</th>\n",
       "      <td>35</td>\n",
       "      <td>20</td>\n",
       "      <td>20</td>\n",
       "    </tr>\n",
       "  </tbody>\n",
       "</table>\n",
       "</div>"
      ],
      "text/plain": [
       "feature_set  full  pca  pca_reduced\n",
       "depth                              \n",
       "deep          276  237          269\n",
       "moderate       84   85           88\n",
       "shallow        35   20           20"
      ]
     },
     "execution_count": 49,
     "metadata": {},
     "output_type": "execute_result"
    }
   ],
   "source": [
    "dfmodels.pivot(index='depth', columns='feature_set', values='mean_training_time')"
   ]
  },
  {
   "cell_type": "code",
   "execution_count": 50,
   "metadata": {},
   "outputs": [
    {
     "data": {
      "text/html": [
       "<div>\n",
       "<style scoped>\n",
       "    .dataframe tbody tr th:only-of-type {\n",
       "        vertical-align: middle;\n",
       "    }\n",
       "\n",
       "    .dataframe tbody tr th {\n",
       "        vertical-align: top;\n",
       "    }\n",
       "\n",
       "    .dataframe thead th {\n",
       "        text-align: right;\n",
       "    }\n",
       "</style>\n",
       "<table border=\"1\" class=\"dataframe\">\n",
       "  <thead>\n",
       "    <tr style=\"text-align: right;\">\n",
       "      <th>feature_set</th>\n",
       "      <th>full</th>\n",
       "      <th>pca</th>\n",
       "      <th>pca_reduced</th>\n",
       "    </tr>\n",
       "    <tr>\n",
       "      <th>depth</th>\n",
       "      <th></th>\n",
       "      <th></th>\n",
       "      <th></th>\n",
       "    </tr>\n",
       "  </thead>\n",
       "  <tbody>\n",
       "    <tr>\n",
       "      <th>deep</th>\n",
       "      <td>0.127014</td>\n",
       "      <td>0.168103</td>\n",
       "      <td>0.115880</td>\n",
       "    </tr>\n",
       "    <tr>\n",
       "      <th>moderate</th>\n",
       "      <td>0.178431</td>\n",
       "      <td>0.210108</td>\n",
       "      <td>0.191398</td>\n",
       "    </tr>\n",
       "    <tr>\n",
       "      <th>shallow</th>\n",
       "      <td>0.207407</td>\n",
       "      <td>0.193095</td>\n",
       "      <td>0.149468</td>\n",
       "    </tr>\n",
       "  </tbody>\n",
       "</table>\n",
       "</div>"
      ],
      "text/plain": [
       "feature_set      full       pca  pca_reduced\n",
       "depth                                       \n",
       "deep         0.127014  0.168103     0.115880\n",
       "moderate     0.178431  0.210108     0.191398\n",
       "shallow      0.207407  0.193095     0.149468"
      ]
     },
     "execution_count": 50,
     "metadata": {},
     "output_type": "execute_result"
    }
   ],
   "source": [
    "dfmodels.pivot(index='depth', columns='feature_set', values='mean_dev_r')"
   ]
  },
  {
   "cell_type": "code",
   "execution_count": null,
   "metadata": {},
   "outputs": [],
   "source": [
    "dfmodels[dfmodels['feature_set'] == 'full']"
   ]
  },
  {
   "cell_type": "code",
   "execution_count": 53,
   "metadata": {},
   "outputs": [
    {
     "data": {
      "text/plain": [
       "<matplotlib.axes._subplots.AxesSubplot at 0x14ce962d0>"
      ]
     },
     "execution_count": 53,
     "metadata": {},
     "output_type": "execute_result"
    },
    {
     "data": {
      "image/png": "[encoded data removed]",
      "text/plain": [
       "<Figure size 432x288 with 1 Axes>"
      ]
     },
     "metadata": {
      "needs_background": "light"
     },
     "output_type": "display_data"
    }
   ],
   "source": [
    "from pandas.plotting import parallel_coordinates\n",
    "parallel_coordinates(dfmodels[dfmodels['depth'] == 'deep'], \n",
    "                     class_column='feature_set', \n",
    "                     cols=['mean_train_r', 'mean_dev_r'])"
   ]
  },
  {
   "cell_type": "code",
   "execution_count": 54,
   "metadata": {},
   "outputs": [
    {
     "data": {
      "text/plain": [
       "<matplotlib.axes._subplots.AxesSubplot at 0x14cf89a90>"
      ]
     },
     "execution_count": 54,
     "metadata": {},
     "output_type": "execute_result"
    },
    {
     "data": {
      "image/png": "[encoded data removed]",
      "text/plain": [
       "<Figure size 432x288 with 1 Axes>"
      ]
     },
     "metadata": {
      "needs_background": "light"
     },
     "output_type": "display_data"
    }
   ],
   "source": [
    "parallel_coordinates(dfmodels[dfmodels['depth'] == 'moderate'], \n",
    "                     class_column='feature_set', \n",
    "                     cols=['mean_train_r', 'mean_dev_r'])"
   ]
  },
  {
   "cell_type": "code",
   "execution_count": 55,
   "metadata": {},
   "outputs": [
    {
     "data": {
      "text/plain": [
       "<matplotlib.axes._subplots.AxesSubplot at 0x14d0787d0>"
      ]
     },
     "execution_count": 55,
     "metadata": {},
     "output_type": "execute_result"
    },
    {
     "data": {
      "image/png": "[encoded data removed]",
      "text/plain": [
       "<Figure size 432x288 with 1 Axes>"
      ]
     },
     "metadata": {
      "needs_background": "light"
     },
     "output_type": "display_data"
    }
   ],
   "source": [
    "parallel_coordinates(dfmodels[dfmodels['depth'] == 'shallow'], \n",
    "                     class_column='feature_set', \n",
    "                     cols=['mean_train_r', 'mean_dev_r'])"
   ]
  },
  {
   "cell_type": "code",
   "execution_count": 67,
   "metadata": {},
   "outputs": [
    {
     "data": {
      "image/png": "[encoded data removed]",
      "text/plain": [
       "<Figure size 1800x360 with 3 Axes>"
      ]
     },
     "metadata": {
      "needs_background": "light"
     },
     "output_type": "display_data"
    }
   ],
   "source": [
    "fig = plt.figure(figsize=(25, 5))\n",
    "# fig, ax = plt.subplots(1, 3, sharey=True)\n",
    "fig.subplots_adjust(hspace=0.2, wspace=0.2)\n",
    "index = 0\n",
    "plot_index = 1\n",
    "depth = ['deep', 'moderate', 'shallow']\n",
    "\n",
    "for i in range(len(depth)):\n",
    "    ax = fig.add_subplot(1, len(depth), plot_index)\n",
    "    parallel_coordinates(dfmodels[dfmodels['depth'] == depth[i]], \n",
    "                     class_column='feature_set', \n",
    "                     cols=['mean_train_r', 'mean_dev_r'])\n",
    "    \n",
    "    ax.set_title('depth = {}'.format(depth[index]))\n",
    "    ax.set_ylim([0.1, 0.5])\n",
    "\n",
    "    index += 1\n",
    "    plot_index +=1\n",
    "\n",
    "plt.savefig('pc.png', bbox_inches='tight', dpi=600)\n",
    "plt.show()"
   ]
  },
  {
   "cell_type": "code",
   "execution_count": 90,
   "metadata": {},
   "outputs": [
    {
     "data": {
      "text/html": [
       "<div>\n",
       "<style scoped>\n",
       "    .dataframe tbody tr th:only-of-type {\n",
       "        vertical-align: middle;\n",
       "    }\n",
       "\n",
       "    .dataframe tbody tr th {\n",
       "        vertical-align: top;\n",
       "    }\n",
       "\n",
       "    .dataframe thead tr th {\n",
       "        text-align: left;\n",
       "    }\n",
       "\n",
       "    .dataframe thead tr:last-of-type th {\n",
       "        text-align: right;\n",
       "    }\n",
       "</style>\n",
       "<table border=\"1\" class=\"dataframe\">\n",
       "  <thead>\n",
       "    <tr>\n",
       "      <th></th>\n",
       "      <th colspan=\"6\" halign=\"left\">value</th>\n",
       "    </tr>\n",
       "    <tr>\n",
       "      <th>feature_set</th>\n",
       "      <th colspan=\"2\" halign=\"left\">full</th>\n",
       "      <th colspan=\"2\" halign=\"left\">pca</th>\n",
       "      <th colspan=\"2\" halign=\"left\">pca_reduced</th>\n",
       "    </tr>\n",
       "    <tr>\n",
       "      <th>variable</th>\n",
       "      <th>mean_dev_r</th>\n",
       "      <th>mean_train_r</th>\n",
       "      <th>mean_dev_r</th>\n",
       "      <th>mean_train_r</th>\n",
       "      <th>mean_dev_r</th>\n",
       "      <th>mean_train_r</th>\n",
       "    </tr>\n",
       "    <tr>\n",
       "      <th>depth</th>\n",
       "      <th></th>\n",
       "      <th></th>\n",
       "      <th></th>\n",
       "      <th></th>\n",
       "      <th></th>\n",
       "      <th></th>\n",
       "    </tr>\n",
       "  </thead>\n",
       "  <tbody>\n",
       "    <tr>\n",
       "      <th>deep</th>\n",
       "      <td>0.127014</td>\n",
       "      <td>0.207707</td>\n",
       "      <td>0.168103</td>\n",
       "      <td>0.227564</td>\n",
       "      <td>0.115880</td>\n",
       "      <td>0.178007</td>\n",
       "    </tr>\n",
       "    <tr>\n",
       "      <th>moderate</th>\n",
       "      <td>0.178431</td>\n",
       "      <td>0.375782</td>\n",
       "      <td>0.210108</td>\n",
       "      <td>0.386659</td>\n",
       "      <td>0.191398</td>\n",
       "      <td>0.359613</td>\n",
       "    </tr>\n",
       "    <tr>\n",
       "      <th>shallow</th>\n",
       "      <td>0.207407</td>\n",
       "      <td>0.458004</td>\n",
       "      <td>0.193095</td>\n",
       "      <td>0.440715</td>\n",
       "      <td>0.149468</td>\n",
       "      <td>0.374142</td>\n",
       "    </tr>\n",
       "  </tbody>\n",
       "</table>\n",
       "</div>"
      ],
      "text/plain": [
       "                 value                                                   \\\n",
       "feature_set       full                     pca              pca_reduced   \n",
       "variable    mean_dev_r mean_train_r mean_dev_r mean_train_r  mean_dev_r   \n",
       "depth                                                                     \n",
       "deep          0.127014     0.207707   0.168103     0.227564    0.115880   \n",
       "moderate      0.178431     0.375782   0.210108     0.386659    0.191398   \n",
       "shallow       0.207407     0.458004   0.193095     0.440715    0.149468   \n",
       "\n",
       "                          \n",
       "feature_set               \n",
       "variable    mean_train_r  \n",
       "depth                     \n",
       "deep            0.178007  \n",
       "moderate        0.359613  \n",
       "shallow         0.374142  "
      ]
     },
     "execution_count": 90,
     "metadata": {},
     "output_type": "execute_result"
    }
   ],
   "source": [
    "pdp = pd.melt(dfmodels, id_vars=['depth', 'feature_set'], value_vars=['mean_train_r', 'mean_dev_r'])\n",
    "pdp1 = pdp.pivot_table(index='depth', columns=['feature_set', 'variable'], values=['value'])\n",
    "pdp1"
   ]
  },
  {
   "cell_type": "code",
   "execution_count": 93,
   "metadata": {},
   "outputs": [
    {
     "data": {
      "text/html": [
       "<div>\n",
       "<style scoped>\n",
       "    .dataframe tbody tr th:only-of-type {\n",
       "        vertical-align: middle;\n",
       "    }\n",
       "\n",
       "    .dataframe tbody tr th {\n",
       "        vertical-align: top;\n",
       "    }\n",
       "\n",
       "    .dataframe thead tr th {\n",
       "        text-align: left;\n",
       "    }\n",
       "\n",
       "    .dataframe thead tr:last-of-type th {\n",
       "        text-align: right;\n",
       "    }\n",
       "</style>\n",
       "<table border=\"1\" class=\"dataframe\">\n",
       "  <thead>\n",
       "    <tr>\n",
       "      <th></th>\n",
       "      <th></th>\n",
       "      <th colspan=\"3\" halign=\"left\">value</th>\n",
       "    </tr>\n",
       "    <tr>\n",
       "      <th></th>\n",
       "      <th>feature_set</th>\n",
       "      <th>full</th>\n",
       "      <th>pca</th>\n",
       "      <th>pca_reduced</th>\n",
       "    </tr>\n",
       "    <tr>\n",
       "      <th>depth</th>\n",
       "      <th>variable</th>\n",
       "      <th></th>\n",
       "      <th></th>\n",
       "      <th></th>\n",
       "    </tr>\n",
       "  </thead>\n",
       "  <tbody>\n",
       "    <tr>\n",
       "      <th rowspan=\"2\" valign=\"top\">deep</th>\n",
       "      <th>mean_dev_r</th>\n",
       "      <td>0.127014</td>\n",
       "      <td>0.168103</td>\n",
       "      <td>0.115880</td>\n",
       "    </tr>\n",
       "    <tr>\n",
       "      <th>mean_train_r</th>\n",
       "      <td>0.207707</td>\n",
       "      <td>0.227564</td>\n",
       "      <td>0.178007</td>\n",
       "    </tr>\n",
       "    <tr>\n",
       "      <th rowspan=\"2\" valign=\"top\">moderate</th>\n",
       "      <th>mean_dev_r</th>\n",
       "      <td>0.178431</td>\n",
       "      <td>0.210108</td>\n",
       "      <td>0.191398</td>\n",
       "    </tr>\n",
       "    <tr>\n",
       "      <th>mean_train_r</th>\n",
       "      <td>0.375782</td>\n",
       "      <td>0.386659</td>\n",
       "      <td>0.359613</td>\n",
       "    </tr>\n",
       "    <tr>\n",
       "      <th rowspan=\"2\" valign=\"top\">shallow</th>\n",
       "      <th>mean_dev_r</th>\n",
       "      <td>0.207407</td>\n",
       "      <td>0.193095</td>\n",
       "      <td>0.149468</td>\n",
       "    </tr>\n",
       "    <tr>\n",
       "      <th>mean_train_r</th>\n",
       "      <td>0.458004</td>\n",
       "      <td>0.440715</td>\n",
       "      <td>0.374142</td>\n",
       "    </tr>\n",
       "  </tbody>\n",
       "</table>\n",
       "</div>"
      ],
      "text/plain": [
       "                          value                      \n",
       "feature_set                full       pca pca_reduced\n",
       "depth    variable                                    \n",
       "deep     mean_dev_r    0.127014  0.168103    0.115880\n",
       "         mean_train_r  0.207707  0.227564    0.178007\n",
       "moderate mean_dev_r    0.178431  0.210108    0.191398\n",
       "         mean_train_r  0.375782  0.386659    0.359613\n",
       "shallow  mean_dev_r    0.207407  0.193095    0.149468\n",
       "         mean_train_r  0.458004  0.440715    0.374142"
      ]
     },
     "execution_count": 93,
     "metadata": {},
     "output_type": "execute_result"
    }
   ],
   "source": [
    "pdp2 = pdp1.stack('variable')\n",
    "pdp2"
   ]
  },
  {
   "cell_type": "code",
   "execution_count": 98,
   "metadata": {},
   "outputs": [
    {
     "data": {
      "text/plain": [
       "MultiIndex([(    'deep',   'mean_dev_r'),\n",
       "            (    'deep', 'mean_train_r'),\n",
       "            ('moderate',   'mean_dev_r'),\n",
       "            ('moderate', 'mean_train_r'),\n",
       "            ( 'shallow',   'mean_dev_r'),\n",
       "            ( 'shallow', 'mean_train_r')],\n",
       "           names=['depth', 'variable'])"
      ]
     },
     "execution_count": 98,
     "metadata": {},
     "output_type": "execute_result"
    }
   ],
   "source": [
    "pdp2.index"
   ]
  },
  {
   "cell_type": "code",
   "execution_count": 132,
   "metadata": {},
   "outputs": [
    {
     "data": {
      "text/html": [
       "<div>\n",
       "<style scoped>\n",
       "    .dataframe tbody tr th:only-of-type {\n",
       "        vertical-align: middle;\n",
       "    }\n",
       "\n",
       "    .dataframe tbody tr th {\n",
       "        vertical-align: top;\n",
       "    }\n",
       "\n",
       "    .dataframe thead th {\n",
       "        text-align: right;\n",
       "    }\n",
       "</style>\n",
       "<table border=\"1\" class=\"dataframe\">\n",
       "  <thead>\n",
       "    <tr style=\"text-align: right;\">\n",
       "      <th>feature_set</th>\n",
       "      <th>full</th>\n",
       "      <th>pca</th>\n",
       "      <th>pca_reduced</th>\n",
       "    </tr>\n",
       "  </thead>\n",
       "  <tbody>\n",
       "    <tr>\n",
       "      <th>0</th>\n",
       "      <td>0.127014</td>\n",
       "      <td>0.168103</td>\n",
       "      <td>0.115880</td>\n",
       "    </tr>\n",
       "    <tr>\n",
       "      <th>1</th>\n",
       "      <td>0.207707</td>\n",
       "      <td>0.227564</td>\n",
       "      <td>0.178007</td>\n",
       "    </tr>\n",
       "    <tr>\n",
       "      <th>2</th>\n",
       "      <td>0.178431</td>\n",
       "      <td>0.210108</td>\n",
       "      <td>0.191398</td>\n",
       "    </tr>\n",
       "    <tr>\n",
       "      <th>3</th>\n",
       "      <td>0.375782</td>\n",
       "      <td>0.386659</td>\n",
       "      <td>0.359613</td>\n",
       "    </tr>\n",
       "    <tr>\n",
       "      <th>4</th>\n",
       "      <td>0.207407</td>\n",
       "      <td>0.193095</td>\n",
       "      <td>0.149468</td>\n",
       "    </tr>\n",
       "    <tr>\n",
       "      <th>5</th>\n",
       "      <td>0.458004</td>\n",
       "      <td>0.440715</td>\n",
       "      <td>0.374142</td>\n",
       "    </tr>\n",
       "  </tbody>\n",
       "</table>\n",
       "</div>"
      ],
      "text/plain": [
       "feature_set      full       pca  pca_reduced\n",
       "0            0.127014  0.168103     0.115880\n",
       "1            0.207707  0.227564     0.178007\n",
       "2            0.178431  0.210108     0.191398\n",
       "3            0.375782  0.386659     0.359613\n",
       "4            0.207407  0.193095     0.149468\n",
       "5            0.458004  0.440715     0.374142"
      ]
     },
     "execution_count": 132,
     "metadata": {},
     "output_type": "execute_result"
    }
   ],
   "source": [
    "pdp3 = pdp2.reset_index('variable')\n",
    "pdp4 = pdp3.reset_index('depth')\n",
    "pdp5 = pdp4['value'].copy()\n",
    "pdp5"
   ]
  },
  {
   "cell_type": "code",
   "execution_count": 135,
   "metadata": {},
   "outputs": [],
   "source": [
    "pdp5['depth'] = pdp4['depth'].values\n",
    "pdp5['variable'] = pdp4['variable'].values"
   ]
  },
  {
   "cell_type": "code",
   "execution_count": 136,
   "metadata": {},
   "outputs": [
    {
     "data": {
      "text/html": [
       "<div>\n",
       "<style scoped>\n",
       "    .dataframe tbody tr th:only-of-type {\n",
       "        vertical-align: middle;\n",
       "    }\n",
       "\n",
       "    .dataframe tbody tr th {\n",
       "        vertical-align: top;\n",
       "    }\n",
       "\n",
       "    .dataframe thead th {\n",
       "        text-align: right;\n",
       "    }\n",
       "</style>\n",
       "<table border=\"1\" class=\"dataframe\">\n",
       "  <thead>\n",
       "    <tr style=\"text-align: right;\">\n",
       "      <th>feature_set</th>\n",
       "      <th>full</th>\n",
       "      <th>pca</th>\n",
       "      <th>pca_reduced</th>\n",
       "      <th>depth</th>\n",
       "      <th>variable</th>\n",
       "    </tr>\n",
       "  </thead>\n",
       "  <tbody>\n",
       "    <tr>\n",
       "      <th>0</th>\n",
       "      <td>0.127014</td>\n",
       "      <td>0.168103</td>\n",
       "      <td>0.115880</td>\n",
       "      <td>deep</td>\n",
       "      <td>mean_dev_r</td>\n",
       "    </tr>\n",
       "    <tr>\n",
       "      <th>1</th>\n",
       "      <td>0.207707</td>\n",
       "      <td>0.227564</td>\n",
       "      <td>0.178007</td>\n",
       "      <td>deep</td>\n",
       "      <td>mean_train_r</td>\n",
       "    </tr>\n",
       "    <tr>\n",
       "      <th>2</th>\n",
       "      <td>0.178431</td>\n",
       "      <td>0.210108</td>\n",
       "      <td>0.191398</td>\n",
       "      <td>moderate</td>\n",
       "      <td>mean_dev_r</td>\n",
       "    </tr>\n",
       "    <tr>\n",
       "      <th>3</th>\n",
       "      <td>0.375782</td>\n",
       "      <td>0.386659</td>\n",
       "      <td>0.359613</td>\n",
       "      <td>moderate</td>\n",
       "      <td>mean_train_r</td>\n",
       "    </tr>\n",
       "    <tr>\n",
       "      <th>4</th>\n",
       "      <td>0.207407</td>\n",
       "      <td>0.193095</td>\n",
       "      <td>0.149468</td>\n",
       "      <td>shallow</td>\n",
       "      <td>mean_dev_r</td>\n",
       "    </tr>\n",
       "    <tr>\n",
       "      <th>5</th>\n",
       "      <td>0.458004</td>\n",
       "      <td>0.440715</td>\n",
       "      <td>0.374142</td>\n",
       "      <td>shallow</td>\n",
       "      <td>mean_train_r</td>\n",
       "    </tr>\n",
       "  </tbody>\n",
       "</table>\n",
       "</div>"
      ],
      "text/plain": [
       "feature_set      full       pca  pca_reduced     depth      variable\n",
       "0            0.127014  0.168103     0.115880      deep    mean_dev_r\n",
       "1            0.207707  0.227564     0.178007      deep  mean_train_r\n",
       "2            0.178431  0.210108     0.191398  moderate    mean_dev_r\n",
       "3            0.375782  0.386659     0.359613  moderate  mean_train_r\n",
       "4            0.207407  0.193095     0.149468   shallow    mean_dev_r\n",
       "5            0.458004  0.440715     0.374142   shallow  mean_train_r"
      ]
     },
     "execution_count": 136,
     "metadata": {},
     "output_type": "execute_result"
    }
   ],
   "source": [
    "pdp5"
   ]
  },
  {
   "cell_type": "code",
   "execution_count": 130,
   "metadata": {},
   "outputs": [
    {
     "data": {
      "text/plain": [
       "array(['deep', 'deep', 'moderate', 'moderate', 'shallow', 'shallow'],\n",
       "      dtype=object)"
      ]
     },
     "execution_count": 130,
     "metadata": {},
     "output_type": "execute_result"
    }
   ],
   "source": [
    "pdp4['depth'].values"
   ]
  },
  {
   "cell_type": "code",
   "execution_count": 89,
   "metadata": {
    "collapsed": true,
    "jupyter": {
     "outputs_hidden": true
    }
   },
   "outputs": [
    {
     "data": {
      "text/html": [
       "<div>\n",
       "<style scoped>\n",
       "    .dataframe tbody tr th:only-of-type {\n",
       "        vertical-align: middle;\n",
       "    }\n",
       "\n",
       "    .dataframe tbody tr th {\n",
       "        vertical-align: top;\n",
       "    }\n",
       "\n",
       "    .dataframe thead th {\n",
       "        text-align: right;\n",
       "    }\n",
       "</style>\n",
       "<table border=\"1\" class=\"dataframe\">\n",
       "  <thead>\n",
       "    <tr style=\"text-align: right;\">\n",
       "      <th></th>\n",
       "      <th>depth</th>\n",
       "      <th>feature_set</th>\n",
       "      <th>variable</th>\n",
       "      <th>value</th>\n",
       "    </tr>\n",
       "  </thead>\n",
       "  <tbody>\n",
       "    <tr>\n",
       "      <th>0</th>\n",
       "      <td>deep</td>\n",
       "      <td>full</td>\n",
       "      <td>mean_train_r</td>\n",
       "      <td>0.207707</td>\n",
       "    </tr>\n",
       "    <tr>\n",
       "      <th>1</th>\n",
       "      <td>deep</td>\n",
       "      <td>pca</td>\n",
       "      <td>mean_train_r</td>\n",
       "      <td>0.227564</td>\n",
       "    </tr>\n",
       "    <tr>\n",
       "      <th>2</th>\n",
       "      <td>deep</td>\n",
       "      <td>pca_reduced</td>\n",
       "      <td>mean_train_r</td>\n",
       "      <td>0.178007</td>\n",
       "    </tr>\n",
       "    <tr>\n",
       "      <th>3</th>\n",
       "      <td>moderate</td>\n",
       "      <td>full</td>\n",
       "      <td>mean_train_r</td>\n",
       "      <td>0.375782</td>\n",
       "    </tr>\n",
       "    <tr>\n",
       "      <th>4</th>\n",
       "      <td>moderate</td>\n",
       "      <td>pca</td>\n",
       "      <td>mean_train_r</td>\n",
       "      <td>0.386659</td>\n",
       "    </tr>\n",
       "    <tr>\n",
       "      <th>5</th>\n",
       "      <td>moderate</td>\n",
       "      <td>pca_reduced</td>\n",
       "      <td>mean_train_r</td>\n",
       "      <td>0.359613</td>\n",
       "    </tr>\n",
       "    <tr>\n",
       "      <th>6</th>\n",
       "      <td>shallow</td>\n",
       "      <td>full</td>\n",
       "      <td>mean_train_r</td>\n",
       "      <td>0.458004</td>\n",
       "    </tr>\n",
       "    <tr>\n",
       "      <th>7</th>\n",
       "      <td>shallow</td>\n",
       "      <td>pca</td>\n",
       "      <td>mean_train_r</td>\n",
       "      <td>0.440715</td>\n",
       "    </tr>\n",
       "    <tr>\n",
       "      <th>8</th>\n",
       "      <td>shallow</td>\n",
       "      <td>pca_reduced</td>\n",
       "      <td>mean_train_r</td>\n",
       "      <td>0.374142</td>\n",
       "    </tr>\n",
       "    <tr>\n",
       "      <th>9</th>\n",
       "      <td>deep</td>\n",
       "      <td>full</td>\n",
       "      <td>mean_dev_r</td>\n",
       "      <td>0.127014</td>\n",
       "    </tr>\n",
       "    <tr>\n",
       "      <th>10</th>\n",
       "      <td>deep</td>\n",
       "      <td>pca</td>\n",
       "      <td>mean_dev_r</td>\n",
       "      <td>0.168103</td>\n",
       "    </tr>\n",
       "    <tr>\n",
       "      <th>11</th>\n",
       "      <td>deep</td>\n",
       "      <td>pca_reduced</td>\n",
       "      <td>mean_dev_r</td>\n",
       "      <td>0.115880</td>\n",
       "    </tr>\n",
       "    <tr>\n",
       "      <th>12</th>\n",
       "      <td>moderate</td>\n",
       "      <td>full</td>\n",
       "      <td>mean_dev_r</td>\n",
       "      <td>0.178431</td>\n",
       "    </tr>\n",
       "    <tr>\n",
       "      <th>13</th>\n",
       "      <td>moderate</td>\n",
       "      <td>pca</td>\n",
       "      <td>mean_dev_r</td>\n",
       "      <td>0.210108</td>\n",
       "    </tr>\n",
       "    <tr>\n",
       "      <th>14</th>\n",
       "      <td>moderate</td>\n",
       "      <td>pca_reduced</td>\n",
       "      <td>mean_dev_r</td>\n",
       "      <td>0.191398</td>\n",
       "    </tr>\n",
       "    <tr>\n",
       "      <th>15</th>\n",
       "      <td>shallow</td>\n",
       "      <td>full</td>\n",
       "      <td>mean_dev_r</td>\n",
       "      <td>0.207407</td>\n",
       "    </tr>\n",
       "    <tr>\n",
       "      <th>16</th>\n",
       "      <td>shallow</td>\n",
       "      <td>pca</td>\n",
       "      <td>mean_dev_r</td>\n",
       "      <td>0.193095</td>\n",
       "    </tr>\n",
       "    <tr>\n",
       "      <th>17</th>\n",
       "      <td>shallow</td>\n",
       "      <td>pca_reduced</td>\n",
       "      <td>mean_dev_r</td>\n",
       "      <td>0.149468</td>\n",
       "    </tr>\n",
       "  </tbody>\n",
       "</table>\n",
       "</div>"
      ],
      "text/plain": [
       "       depth  feature_set      variable     value\n",
       "0       deep         full  mean_train_r  0.207707\n",
       "1       deep          pca  mean_train_r  0.227564\n",
       "2       deep  pca_reduced  mean_train_r  0.178007\n",
       "3   moderate         full  mean_train_r  0.375782\n",
       "4   moderate          pca  mean_train_r  0.386659\n",
       "5   moderate  pca_reduced  mean_train_r  0.359613\n",
       "6    shallow         full  mean_train_r  0.458004\n",
       "7    shallow          pca  mean_train_r  0.440715\n",
       "8    shallow  pca_reduced  mean_train_r  0.374142\n",
       "9       deep         full    mean_dev_r  0.127014\n",
       "10      deep          pca    mean_dev_r  0.168103\n",
       "11      deep  pca_reduced    mean_dev_r  0.115880\n",
       "12  moderate         full    mean_dev_r  0.178431\n",
       "13  moderate          pca    mean_dev_r  0.210108\n",
       "14  moderate  pca_reduced    mean_dev_r  0.191398\n",
       "15   shallow         full    mean_dev_r  0.207407\n",
       "16   shallow          pca    mean_dev_r  0.193095\n",
       "17   shallow  pca_reduced    mean_dev_r  0.149468"
      ]
     },
     "execution_count": 89,
     "metadata": {},
     "output_type": "execute_result"
    }
   ],
   "source": [
    "pdp"
   ]
  },
  {
   "cell_type": "code",
   "execution_count": 137,
   "metadata": {},
   "outputs": [
    {
     "data": {
      "image/png": "[encoded data removed]",
      "text/plain": [
       "<Figure size 1800x360 with 3 Axes>"
      ]
     },
     "metadata": {
      "needs_background": "light"
     },
     "output_type": "display_data"
    }
   ],
   "source": [
    "fig = plt.figure(figsize=(25, 5))\n",
    "# fig, ax = plt.subplots(1, 3, sharey=True)\n",
    "fig.subplots_adjust(hspace=0.2, wspace=0.2)\n",
    "index = 0\n",
    "plot_index = 1\n",
    "depth = ['deep', 'moderate', 'shallow']\n",
    "\n",
    "for i in range(len(depth)):\n",
    "    ax = fig.add_subplot(1, len(depth), plot_index)\n",
    "    parallel_coordinates(pdp5[pdp5['depth'] == depth[i]], \n",
    "                     class_column='variable', \n",
    "                     cols=['full', 'pca', 'pca_reduced'])\n",
    "    \n",
    "    ax.set_title('depth = {}'.format(depth[index]))\n",
    "    ax.set_ylim([0.1, 0.5])\n",
    "\n",
    "    index += 1\n",
    "    plot_index +=1\n",
    "\n",
    "plt.savefig('pc.png', bbox_inches='tight', dpi=600)\n",
    "plt.show()"
   ]
  },
  {
   "cell_type": "code",
   "execution_count": 138,
   "metadata": {},
   "outputs": [],
   "source": [
    "dftrainloss = pd.read_csv('results/train_losses.csv')"
   ]
  },
  {
   "cell_type": "code",
   "execution_count": 144,
   "metadata": {},
   "outputs": [],
   "source": [
    "dftrainlossfull = dftrainloss[dftrainloss['1'] == 'full'].copy()"
   ]
  },
  {
   "cell_type": "code",
   "execution_count": 145,
   "metadata": {},
   "outputs": [
    {
     "data": {
      "text/html": [
       "<div>\n",
       "<style scoped>\n",
       "    .dataframe tbody tr th:only-of-type {\n",
       "        vertical-align: middle;\n",
       "    }\n",
       "\n",
       "    .dataframe tbody tr th {\n",
       "        vertical-align: top;\n",
       "    }\n",
       "\n",
       "    .dataframe thead th {\n",
       "        text-align: right;\n",
       "    }\n",
       "</style>\n",
       "<table border=\"1\" class=\"dataframe\">\n",
       "  <thead>\n",
       "    <tr style=\"text-align: right;\">\n",
       "      <th></th>\n",
       "      <th>Unnamed: 0</th>\n",
       "      <th>0</th>\n",
       "      <th>1</th>\n",
       "      <th>2</th>\n",
       "    </tr>\n",
       "  </thead>\n",
       "  <tbody>\n",
       "    <tr>\n",
       "      <th>0</th>\n",
       "      <td>0</td>\n",
       "      <td>deep</td>\n",
       "      <td>full</td>\n",
       "      <td>[15.011883856354903, 9.762970173984245, 8.5580...</td>\n",
       "    </tr>\n",
       "    <tr>\n",
       "      <th>1</th>\n",
       "      <td>1</td>\n",
       "      <td>deep</td>\n",
       "      <td>full</td>\n",
       "      <td>[9.215252129028716, 5.905071600174148, 3.74265...</td>\n",
       "    </tr>\n",
       "    <tr>\n",
       "      <th>2</th>\n",
       "      <td>2</td>\n",
       "      <td>deep</td>\n",
       "      <td>full</td>\n",
       "      <td>[15.834415524329472, 10.239488393350298, 7.759...</td>\n",
       "    </tr>\n",
       "    <tr>\n",
       "      <th>3</th>\n",
       "      <td>3</td>\n",
       "      <td>deep</td>\n",
       "      <td>full</td>\n",
       "      <td>[12.371841377443534, 6.444423599162314, 6.0185...</td>\n",
       "    </tr>\n",
       "    <tr>\n",
       "      <th>4</th>\n",
       "      <td>4</td>\n",
       "      <td>deep</td>\n",
       "      <td>full</td>\n",
       "      <td>[13.022752272442968, 6.929190748204038, 5.9268...</td>\n",
       "    </tr>\n",
       "    <tr>\n",
       "      <th>15</th>\n",
       "      <td>15</td>\n",
       "      <td>moderate</td>\n",
       "      <td>full</td>\n",
       "      <td>[6.37464129230868, 2.7343031110865335, 2.50341...</td>\n",
       "    </tr>\n",
       "    <tr>\n",
       "      <th>16</th>\n",
       "      <td>16</td>\n",
       "      <td>moderate</td>\n",
       "      <td>full</td>\n",
       "      <td>[5.9639602068939395, 2.6786547549044677, 2.504...</td>\n",
       "    </tr>\n",
       "    <tr>\n",
       "      <th>17</th>\n",
       "      <td>17</td>\n",
       "      <td>moderate</td>\n",
       "      <td>full</td>\n",
       "      <td>[6.910733281343388, 2.537365394324035, 2.47102...</td>\n",
       "    </tr>\n",
       "    <tr>\n",
       "      <th>18</th>\n",
       "      <td>18</td>\n",
       "      <td>moderate</td>\n",
       "      <td>full</td>\n",
       "      <td>[7.467026105196685, 2.5134957171471815, 2.4745...</td>\n",
       "    </tr>\n",
       "    <tr>\n",
       "      <th>19</th>\n",
       "      <td>19</td>\n",
       "      <td>moderate</td>\n",
       "      <td>full</td>\n",
       "      <td>[6.907567309553623, 2.503644609205855, 2.46869...</td>\n",
       "    </tr>\n",
       "    <tr>\n",
       "      <th>30</th>\n",
       "      <td>30</td>\n",
       "      <td>shallow</td>\n",
       "      <td>full</td>\n",
       "      <td>[19.033286043556497, 3.789690082200082, 2.4954...</td>\n",
       "    </tr>\n",
       "    <tr>\n",
       "      <th>31</th>\n",
       "      <td>31</td>\n",
       "      <td>shallow</td>\n",
       "      <td>full</td>\n",
       "      <td>[3.119219180898946, 2.4620048245061907, 2.4356...</td>\n",
       "    </tr>\n",
       "    <tr>\n",
       "      <th>32</th>\n",
       "      <td>32</td>\n",
       "      <td>shallow</td>\n",
       "      <td>full</td>\n",
       "      <td>[20.02877429749637, 5.042752485670136, 2.90831...</td>\n",
       "    </tr>\n",
       "    <tr>\n",
       "      <th>33</th>\n",
       "      <td>33</td>\n",
       "      <td>shallow</td>\n",
       "      <td>full</td>\n",
       "      <td>[3.9856485733788465, 2.4636127397064977, 2.428...</td>\n",
       "    </tr>\n",
       "    <tr>\n",
       "      <th>34</th>\n",
       "      <td>34</td>\n",
       "      <td>shallow</td>\n",
       "      <td>full</td>\n",
       "      <td>[16.84321402411576, 2.9156125407009226, 2.5222...</td>\n",
       "    </tr>\n",
       "  </tbody>\n",
       "</table>\n",
       "</div>"
      ],
      "text/plain": [
       "    Unnamed: 0         0     1  \\\n",
       "0            0      deep  full   \n",
       "1            1      deep  full   \n",
       "2            2      deep  full   \n",
       "3            3      deep  full   \n",
       "4            4      deep  full   \n",
       "15          15  moderate  full   \n",
       "16          16  moderate  full   \n",
       "17          17  moderate  full   \n",
       "18          18  moderate  full   \n",
       "19          19  moderate  full   \n",
       "30          30   shallow  full   \n",
       "31          31   shallow  full   \n",
       "32          32   shallow  full   \n",
       "33          33   shallow  full   \n",
       "34          34   shallow  full   \n",
       "\n",
       "                                                    2  \n",
       "0   [15.011883856354903, 9.762970173984245, 8.5580...  \n",
       "1   [9.215252129028716, 5.905071600174148, 3.74265...  \n",
       "2   [15.834415524329472, 10.239488393350298, 7.759...  \n",
       "3   [12.371841377443534, 6.444423599162314, 6.0185...  \n",
       "4   [13.022752272442968, 6.929190748204038, 5.9268...  \n",
       "15  [6.37464129230868, 2.7343031110865335, 2.50341...  \n",
       "16  [5.9639602068939395, 2.6786547549044677, 2.504...  \n",
       "17  [6.910733281343388, 2.537365394324035, 2.47102...  \n",
       "18  [7.467026105196685, 2.5134957171471815, 2.4745...  \n",
       "19  [6.907567309553623, 2.503644609205855, 2.46869...  \n",
       "30  [19.033286043556497, 3.789690082200082, 2.4954...  \n",
       "31  [3.119219180898946, 2.4620048245061907, 2.4356...  \n",
       "32  [20.02877429749637, 5.042752485670136, 2.90831...  \n",
       "33  [3.9856485733788465, 2.4636127397064977, 2.428...  \n",
       "34  [16.84321402411576, 2.9156125407009226, 2.5222...  "
      ]
     },
     "execution_count": 145,
     "metadata": {},
     "output_type": "execute_result"
    }
   ],
   "source": [
    "dftrainlossfull"
   ]
  },
  {
   "cell_type": "code",
   "execution_count": 146,
   "metadata": {},
   "outputs": [],
   "source": [
    "dftrainlossfull['count'] = [len(a.split(',')) for a in dftrainlossfull['2'].values]"
   ]
  },
  {
   "cell_type": "code",
   "execution_count": 148,
   "metadata": {},
   "outputs": [
    {
     "data": {
      "text/html": [
       "<div>\n",
       "<style scoped>\n",
       "    .dataframe tbody tr th:only-of-type {\n",
       "        vertical-align: middle;\n",
       "    }\n",
       "\n",
       "    .dataframe tbody tr th {\n",
       "        vertical-align: top;\n",
       "    }\n",
       "\n",
       "    .dataframe thead th {\n",
       "        text-align: right;\n",
       "    }\n",
       "</style>\n",
       "<table border=\"1\" class=\"dataframe\">\n",
       "  <thead>\n",
       "    <tr style=\"text-align: right;\">\n",
       "      <th></th>\n",
       "      <th></th>\n",
       "      <th>Unnamed: 0</th>\n",
       "      <th>count</th>\n",
       "    </tr>\n",
       "    <tr>\n",
       "      <th>0</th>\n",
       "      <th>1</th>\n",
       "      <th></th>\n",
       "      <th></th>\n",
       "    </tr>\n",
       "  </thead>\n",
       "  <tbody>\n",
       "    <tr>\n",
       "      <th>deep</th>\n",
       "      <th>full</th>\n",
       "      <td>2.0</td>\n",
       "      <td>13.8</td>\n",
       "    </tr>\n",
       "    <tr>\n",
       "      <th>moderate</th>\n",
       "      <th>full</th>\n",
       "      <td>17.0</td>\n",
       "      <td>7.4</td>\n",
       "    </tr>\n",
       "    <tr>\n",
       "      <th>shallow</th>\n",
       "      <th>full</th>\n",
       "      <td>32.0</td>\n",
       "      <td>9.4</td>\n",
       "    </tr>\n",
       "  </tbody>\n",
       "</table>\n",
       "</div>"
      ],
      "text/plain": [
       "               Unnamed: 0  count\n",
       "0        1                      \n",
       "deep     full         2.0   13.8\n",
       "moderate full        17.0    7.4\n",
       "shallow  full        32.0    9.4"
      ]
     },
     "execution_count": 148,
     "metadata": {},
     "output_type": "execute_result"
    }
   ],
   "source": [
    "dftrainlossfull.groupby(['0', '1']).mean()"
   ]
  },
  {
   "cell_type": "markdown",
   "metadata": {},
   "source": [
    "# Test set performance "
   ]
  },
  {
   "cell_type": "code",
   "execution_count": 149,
   "metadata": {},
   "outputs": [],
   "source": [
    "X_train = np.load('X_train.npy')\n",
    "X_dev = np.load('X_dev.npy')\n",
    "X_test = np.load('X_test.npy')\n",
    "\n",
    "Y_train = np.load('Y_train.npy')\n",
    "Y_dev = np.load('Y_dev.npy')\n",
    "Y_test = np.load('Y_test.npy')"
   ]
  },
  {
   "cell_type": "code",
   "execution_count": 157,
   "metadata": {},
   "outputs": [],
   "source": [
    "from tensorflow.keras import backend as K\n",
    "import math\n",
    "from datetime import datetime\n",
    "\n",
    "def ztp_log_loss_inexact(y_true, y_pred):\n",
    "    return K.mean(-y_true * K.log(y_pred + K.epsilon()) + K.log(K.exp(y_pred) - 1 + K.epsilon()))\n",
    "\n",
    "# Stirling's approximation https://www.tensorflow.org/api_docs/python/tf/nn/log_poisson_loss\n",
    "def ztp_log_loss_full(y_true, y_pred):\n",
    "    return K.mean(-y_true * K.log(y_pred + K.epsilon()) \n",
    "                  + K.log(K.exp(y_pred) - 1 + K.epsilon()) \n",
    "                  + y_true * K.log(y_true + K.epsilon()) - y_true + 0.5 * K.log(2 * math.pi * y_true + K.epsilon()))"
   ]
  },
  {
   "cell_type": "code",
   "execution_count": 161,
   "metadata": {},
   "outputs": [],
   "source": [
    "def shallow_model(input_size):\n",
    "    model = tf.keras.Sequential([\n",
    "        tf.keras.layers.Dense(units=input_size, input_shape=(input_size,)),\n",
    "        tf.keras.layers.BatchNormalization(),\n",
    "        tf.keras.layers.Activation('relu'),\n",
    "        tf.keras.layers.Dense(units=512),\n",
    "        tf.keras.layers.BatchNormalization(),\n",
    "        tf.keras.layers.Activation('relu'),\n",
    "        tf.keras.layers.Dense(units=256),\n",
    "        tf.keras.layers.BatchNormalization(),\n",
    "        tf.keras.layers.Activation('relu'),\n",
    "        tf.keras.layers.Dense(units=128),\n",
    "        tf.keras.layers.BatchNormalization(),\n",
    "        tf.keras.layers.Activation('relu'),\n",
    "        tf.keras.layers.Dense(units=64),\n",
    "        tf.keras.layers.BatchNormalization(),\n",
    "        tf.keras.layers.Activation('relu'),\n",
    "        tf.keras.layers.Dense(units=32),\n",
    "        tf.keras.layers.BatchNormalization(),\n",
    "        tf.keras.layers.Activation('relu'),\n",
    "        tf.keras.layers.Dense(units=1),\n",
    "        tf.keras.layers.Activation('relu'),\n",
    "    ])\n",
    "    \n",
    "    model.compile(loss = ztp_log_loss_full,\n",
    "          metrics = ['mse', 'poisson'],\n",
    "          optimizer = keras.optimizers.Adam())\n",
    "\n",
    "    return model"
   ]
  },
  {
   "cell_type": "code",
   "execution_count": 162,
   "metadata": {},
   "outputs": [
    {
     "name": "stdout",
     "output_type": "stream",
     "text": [
      "Train on 13211 samples, validate on 1652 samples\n",
      "Epoch 1/100\n",
      "13211/13211 - 3s - loss: 16.6827 - mse: 19.2994 - poisson: 15.1842 - val_loss: 7.0452 - val_mse: 13.1709 - val_poisson: 3.4697\n",
      "Epoch 2/100\n",
      "13211/13211 - 2s - loss: 3.4591 - mse: 12.3207 - poisson: -1.3543e+00 - val_loss: 2.5295 - val_mse: 9.5914 - val_poisson: -2.2142e+00\n",
      "Epoch 3/100\n",
      "13211/13211 - 2s - loss: 2.5273 - mse: 9.5496 - poisson: -2.4861e+00 - val_loss: 2.4906 - val_mse: 9.2552 - val_poisson: -2.2609e+00\n",
      "Epoch 4/100\n",
      "13211/13211 - 2s - loss: 2.4906 - mse: 9.2325 - poisson: -2.5249e+00 - val_loss: 2.4836 - val_mse: 9.1687 - val_poisson: -2.2684e+00\n",
      "Epoch 5/100\n",
      "13211/13211 - 2s - loss: 2.4750 - mse: 9.0800 - poisson: -2.5397e+00 - val_loss: 2.4865 - val_mse: 9.2094 - val_poisson: -2.2651e+00\n",
      "Epoch 6/100\n",
      "13211/13211 - 2s - loss: 2.4497 - mse: 8.8371 - poisson: -2.5639e+00 - val_loss: 2.4838 - val_mse: 9.2157 - val_poisson: -2.2672e+00\n",
      "Epoch 7/100\n",
      "13211/13211 - 2s - loss: 2.4323 - mse: 8.6795 - poisson: -2.5802e+00 - val_loss: 2.4838 - val_mse: 9.2119 - val_poisson: -2.2656e+00\n",
      "Total time: 14\n"
     ]
    }
   ],
   "source": [
    "model = shallow_model(X_train.shape[1])\n",
    "\n",
    "es = tf.keras.callbacks.EarlyStopping(monitor='val_loss', patience=3, restore_best_weights=True)\n",
    "ton = tf.keras.callbacks.TerminateOnNaN()\n",
    "start_time = datetime.now()\n",
    "result = model.fit(X_train, Y_train, \n",
    "                   epochs=100, batch_size=20, \n",
    "                   validation_data=(X_dev, Y_dev), \n",
    "                   callbacks=[es, ton],\n",
    "                   verbose=2)\n",
    "total_time = datetime.now() - start_time\n",
    "print('Total time: {}'.format(total_time.seconds))"
   ]
  },
  {
   "cell_type": "markdown",
   "metadata": {},
   "source": [
    "Test set correlation"
   ]
  },
  {
   "cell_type": "code",
   "execution_count": 167,
   "metadata": {},
   "outputs": [
    {
     "name": "stdout",
     "output_type": "stream",
     "text": [
      "(0.13814269390929446, 1.7245520665343305e-08)\n"
     ]
    },
    {
     "data": {
      "image/png": "[encoded data removed]",
      "text/plain": [
       "<Figure size 432x288 with 1 Axes>"
      ]
     },
     "metadata": {
      "needs_background": "light"
     },
     "output_type": "display_data"
    }
   ],
   "source": [
    "import scipy\n",
    "print(scipy.stats.pearsonr(Y_test, model.predict(X_test).flatten()))\n",
    "p1 = sns.regplot(x=Y_test, y=model.predict(X_test).flatten(), scatter_kws={'alpha': 0.3})\n",
    "p1.set_xlabel('Actual')\n",
    "p1.set_ylabel('Predicted')\n",
    "p1_fig = p1.get_figure()\n",
    "p1_fig.savefig('corr.png', bbox_inches='tight', dpi=600)"
   ]
  },
  {
   "cell_type": "code",
   "execution_count": null,
   "metadata": {},
   "outputs": [],
   "source": []
  }
 ],
 "metadata": {
  "kernelspec": {
   "display_name": "Python 3",
   "language": "python",
   "name": "python3"
  },
  "language_info": {
   "codemirror_mode": {
    "name": "ipython",
    "version": 3
   },
   "file_extension": ".py",
   "mimetype": "text/x-python",
   "name": "python",
   "nbconvert_exporter": "python",
   "pygments_lexer": "ipython3",
   "version": "3.7.6"
  }
 },
 "nbformat": 4,
 "nbformat_minor": 4
}
