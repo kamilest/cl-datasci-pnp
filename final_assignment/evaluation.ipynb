{
 "cells": [
  {
   "cell_type": "markdown",
   "metadata": {},
   "source": [
    "# Evaluation"
   ]
  },
  {
   "cell_type": "code",
   "execution_count": 4,
   "metadata": {},
   "outputs": [],
   "source": [
    "import os\n",
    "import pandas as pd\n",
    "import numpy as np\n",
    "\n",
    "import math\n",
    "\n",
    "import sklearn\n",
    "\n",
    "from sklearn.ensemble import GradientBoostingClassifier\n",
    "from sklearn.model_selection import StratifiedShuffleSplit, cross_val_score\n",
    "from sklearn.metrics import accuracy_score\n",
    "\n",
    "from sklearn.impute import SimpleImputer\n",
    "from sklearn.base import TransformerMixin, BaseEstimator\n",
    "\n",
    "from sklearn.pipeline import Pipeline, FeatureUnion\n",
    "from sklearn.preprocessing import OrdinalEncoder, OneHotEncoder, StandardScaler, LabelBinarizer"
   ]
  },
  {
   "cell_type": "code",
   "execution_count": 8,
   "metadata": {},
   "outputs": [],
   "source": [
    "class DataFrameSelector(BaseEstimator, TransformerMixin):\n",
    "    def __init__(self, attribute_names):\n",
    "        self.attribute_names = attribute_names\n",
    "    def fit(self, X, y=None):\n",
    "        return self\n",
    "    def transform(self, X):\n",
    "        return X[self.attribute_names].values\n",
    "    \n",
    "np.random.seed(42)\n",
    "\n",
    "diabetic = pd.read_csv('training/diabetes/diabetic_data_balanced.csv')\n",
    "\n",
    "# Anonymise\n",
    "diabetic = diabetic.groupby('patient_nbr', group_keys=False) \\\n",
    "                    .apply(lambda df: df.sample(1))\n",
    "\n",
    "\n",
    "# Train test split\n",
    "X, y = diabetic.drop('readmitted', axis=1), diabetic['readmitted']\n",
    "\n",
    "split = StratifiedShuffleSplit(n_splits=1, test_size=0.1, random_state=42)\n",
    "for train_index, test_index in split.split(X, y):\n",
    "     X_train, X_test = X.iloc[train_index], X.iloc[test_index]\n",
    "     y_train, y_test = y.iloc[train_index], y.iloc[test_index]"
   ]
  },
  {
   "cell_type": "code",
   "execution_count": 9,
   "metadata": {},
   "outputs": [],
   "source": [
    "# PREPROCESSING PIPELINE\n",
    "diabetic_num_to_cat_features = ['admission_type_id', 'discharge_disposition_id','admission_source_id']\n",
    "\n",
    "diabetic_cat_to_num_features = ['max_glu_serum', 'A1Cresult']\n",
    "\n",
    "diabetic_num_features = ['time_in_hospital', 'num_lab_procedures','num_procedures', 'num_medications', 'number_outpatient', 'number_emergency', 'number_inpatient', 'number_diagnoses']\n",
    "\n",
    "diabetic_drugs = []\n",
    "\n",
    "diabetic_cat_features = ['race', 'gender', 'change', 'diabetesMed']\n",
    "diabetic_diag_features = ['diag_1', 'diag_2', 'diag_3']\n",
    "\n",
    "num_pipeline = Pipeline([\n",
    "    ('selector', DataFrameSelector(diabetic_num_features)),\n",
    "    ('imputer', SimpleImputer(strategy=\"median\")),\n",
    "    ('std_scaler', StandardScaler()),\n",
    "])\n",
    "\n",
    "age_pipeline = Pipeline([\n",
    "    ('selector', DataFrameSelector(['age'])),\n",
    "    ('ordinal_encoder', OrdinalEncoder(categories=[['[0-10)', '[10-20)', '[20-30)', '[30-40)', '[40-50)', '[50-60)', '[60-70)', '[70-80)', '[80-90)', '[90-100)']])),\n",
    "    ('std_scaler', StandardScaler()),\n",
    "])\n",
    "\n",
    "class DiagEncoder(TransformerMixin):\n",
    "    def __init__(self, *args, **kwargs):\n",
    "        self.encoder = OneHotEncoder(*args, **kwargs, categories='auto', sparse=False)\n",
    "    def fit(self, X, y=0):\n",
    "        X = [[self.get_type(icd_str) for icd_str in x] for x in X]\n",
    "        self.encoder.fit(X)\n",
    "        return self\n",
    "    def transform(self, X, y=0):\n",
    "        X = [[self.get_type(icd_str) for icd_str in x] for x in X]\n",
    "        return self.encoder.transform(X)\n",
    "    def get_type(self, icd_str):\n",
    "        if isinstance(icd_str, float) and math.isnan(icd_str):\n",
    "            return('missing')\n",
    "        elif icd_str.isnumeric():\n",
    "            icd = int(icd_str)\n",
    "        elif icd_str[:3].isnumeric():\n",
    "            icd = int(icd_str[:3])\n",
    "        else:\n",
    "            return 'other'\n",
    "\n",
    "        if (icd >= 390 and icd <= 459 or icd == 785):\n",
    "            return 'circulatory'\n",
    "        elif (icd >= 520 and icd <= 579 or icd == 787):\n",
    "            return 'digestive'\n",
    "        elif (icd >= 580 and icd <= 629 or icd == 788):\n",
    "            return 'genitourinary'\n",
    "        elif (icd == 250):\n",
    "            return 'diabetes'\n",
    "        elif (icd >= 800 and icd <= 999):\n",
    "            return 'injury'\n",
    "        elif (icd >= 710 and icd <= 739):\n",
    "            return 'musculoskeletal'\n",
    "        elif (icd >= 140 and icd <= 239):\n",
    "            return 'neoplasms'\n",
    "        elif (icd >= 460 and icd <= 519 or icd == 786):\n",
    "            return 'respiratory'\n",
    "        else:\n",
    "            return 'other'\n",
    "        \n",
    "\n",
    "diag_pipeline = Pipeline([\n",
    "    ('selector', DataFrameSelector(diabetic_diag_features)),\n",
    "    ('diag_encoder', DiagEncoder()),\n",
    "])\n",
    "\n",
    "cat_pipeline = Pipeline([\n",
    "    ('selector', DataFrameSelector(diabetic_num_to_cat_features + diabetic_cat_features + diabetic_drugs + diabetic_cat_to_num_features)),\n",
    "    ('imputer', SimpleImputer(strategy='constant')),\n",
    "    ('encoder', OneHotEncoder(categories='auto', sparse=False, handle_unknown='ignore'))\n",
    "\n",
    "])\n",
    "\n",
    "full_pipeline = FeatureUnion(transformer_list=[\n",
    "    (\"num_pipeline\", num_pipeline),\n",
    "    ('age_pipeline', age_pipeline),\n",
    "    ('diag_pipeline', diag_pipeline),\n",
    "    (\"cat_pipeline\", cat_pipeline),\n",
    "])\n",
    "\n",
    "\n",
    "X_train = full_pipeline.fit_transform(X_train)"
   ]
  },
  {
   "cell_type": "code",
   "execution_count": 10,
   "metadata": {},
   "outputs": [
    {
     "name": "stdout",
     "output_type": "stream",
     "text": [
      "(7149, 93)\n"
     ]
    },
    {
     "data": {
      "text/plain": [
       "GradientBoostingClassifier(ccp_alpha=0.0, criterion='friedman_mse', init=None,\n",
       "                           learning_rate=0.01, loss='deviance', max_depth=10,\n",
       "                           max_features=0.2, max_leaf_nodes=None,\n",
       "                           min_impurity_decrease=0.0, min_impurity_split=None,\n",
       "                           min_samples_leaf=1, min_samples_split=14,\n",
       "                           min_weight_fraction_leaf=0.0, n_estimators=100,\n",
       "                           n_iter_no_change=None, presort='deprecated',\n",
       "                           random_state=42, subsample=0.9000000000000001,\n",
       "                           tol=0.0001, validation_fraction=0.1, verbose=0,\n",
       "                           warm_start=False)"
      ]
     },
     "execution_count": 10,
     "metadata": {},
     "output_type": "execute_result"
    }
   ],
   "source": [
    "# MACHINE LEARNING ALGORITHMS\n",
    "print(X_train.shape)\n",
    "\n",
    "tpot_best_clf = GradientBoostingClassifier(learning_rate=0.01, max_depth=10, max_features=0.2, min_samples_leaf=1, min_samples_split=14, n_estimators=100, subsample=0.9000000000000001, random_state=42)\n",
    "tpot_best_clf.fit(X_train, y_train)"
   ]
  },
  {
   "cell_type": "code",
   "execution_count": 11,
   "metadata": {},
   "outputs": [
    {
     "name": "stdout",
     "output_type": "stream",
     "text": [
      "(795, 93)\n"
     ]
    }
   ],
   "source": [
    "X_test_prepared = full_pipeline.transform(X_test)\n",
    "print(X_test_prepared.shape)"
   ]
  },
  {
   "cell_type": "code",
   "execution_count": 12,
   "metadata": {},
   "outputs": [
    {
     "data": {
      "text/plain": [
       "0.5547169811320755"
      ]
     },
     "execution_count": 12,
     "metadata": {},
     "output_type": "execute_result"
    }
   ],
   "source": [
    "from sklearn.metrics import accuracy_score\n",
    "\n",
    "accuracy_score(tpot_best_clf.predict(X_test_prepared), y_test)"
   ]
  },
  {
   "cell_type": "code",
   "execution_count": 55,
   "metadata": {},
   "outputs": [
    {
     "data": {
      "text/plain": [
       "array([[116,  21,  98],\n",
       "       [ 41,  58, 145],\n",
       "       [ 18,  31, 267]])"
      ]
     },
     "execution_count": 55,
     "metadata": {},
     "output_type": "execute_result"
    }
   ],
   "source": [
    "from sklearn.model_selection import cross_val_predict\n",
    "from sklearn.metrics import confusion_matrix\n",
    "\n",
    "y_test_pred = tpot_best_clf.predict(X_test_prepared)\n",
    "confusion_matrix(y_test, y_test_pred)"
   ]
  },
  {
   "cell_type": "code",
   "execution_count": 74,
   "metadata": {},
   "outputs": [
    {
     "data": {
      "image/png": "[encoded data removed]",
      "text/plain": [
       "<Figure size 432x288 with 1 Axes>"
      ]
     },
     "metadata": {
      "needs_background": "light"
     },
     "output_type": "display_data"
    }
   ],
   "source": [
    "import matplotlib\n",
    "from matplotlib import pyplot as plt\n",
    "\n",
    "plt.imshow(confusion_matrix(y_test, y_test_pred))\n",
    "plt.xticks(range(3), labels=['<30', '>30', 'NO'])\n",
    "plt.yticks(range(3), labels=['<30', '>30', 'NO'])\n",
    "plt.xlabel('Predicted')\n",
    "plt.ylabel('Actual')\n",
    "plt.savefig('confmatrix.png', bbox_inches='tight', dpi=600)\n",
    "plt.show()"
   ]
  },
  {
   "cell_type": "markdown",
   "metadata": {},
   "source": [
    "Most confusion on the `>30` case which gets confused with `NO`. The `NO` case is the easiest to predict. \n",
    "\n",
    "In general the classifier tends to predict `NO` more often than it should, which is especially true for the `>30` case.\n",
    "\n",
    "Probably `>30` and `NO` also have closer distributions because over 30 days might include many years where the patient is healthy most of the time, just like the not readmitted patient is."
   ]
  },
  {
   "cell_type": "code",
   "execution_count": 88,
   "metadata": {},
   "outputs": [
    {
     "name": "stdout",
     "output_type": "stream",
     "text": [
      "macro 0.5712197606315254 0.5254195493900474 0.5133421261573391\n",
      "micro 0.5547169811320755 0.5547169811320755 0.5547169811320755\n",
      "weighted 0.5658632303693347 0.5547169811320755 0.5248062502096993\n"
     ]
    }
   ],
   "source": [
    "from sklearn.metrics import precision_score, recall_score, f1_score\n",
    "\n",
    "precision = precision_score(y_test, y_test_pred, average='macro')\n",
    "recall = recall_score(y_test, y_test_pred, average='macro')\n",
    "f1 = f1_score(y_test, y_test_pred, average='macro')\n",
    "print('macro', precision, recall, f1)\n",
    "\n",
    "precision = precision_score(y_test, y_test_pred, average='micro')\n",
    "recall = recall_score(y_test, y_test_pred, average='micro')\n",
    "f1 = f1_score(y_test, y_test_pred, average='micro')\n",
    "print('micro', precision, recall, f1)\n",
    "\n",
    "precision = precision_score(y_test, y_test_pred, average='weighted')\n",
    "recall = recall_score(y_test, y_test_pred, average='weighted')\n",
    "f1 = f1_score(y_test, y_test_pred, average='weighted')\n",
    "print('weighted', precision, recall, f1)"
   ]
  },
  {
   "cell_type": "code",
   "execution_count": 62,
   "metadata": {},
   "outputs": [
    {
     "data": {
      "text/plain": [
       "(795, 3)"
      ]
     },
     "execution_count": 62,
     "metadata": {},
     "output_type": "execute_result"
    }
   ],
   "source": [
    "y_scores = tpot_best_clf.decision_function(X_test_prepared)\n",
    "y_scores.shape"
   ]
  },
  {
   "cell_type": "code",
   "execution_count": 63,
   "metadata": {},
   "outputs": [
    {
     "data": {
      "text/plain": [
       "(795, 3)"
      ]
     },
     "execution_count": 63,
     "metadata": {},
     "output_type": "execute_result"
    }
   ],
   "source": [
    "y_test_prepared.shape"
   ]
  },
  {
   "cell_type": "code",
   "execution_count": 64,
   "metadata": {},
   "outputs": [],
   "source": [
    "from sklearn.metrics import roc_curve, auc\n",
    "\n",
    "label_pipeline = LabelBinarizer()\n",
    "y_test_prepared = label_pipeline.fit_transform(y_test)\n",
    "\n",
    "\n",
    "# Compute ROC curve and ROC area for each class\n",
    "fpr = dict()\n",
    "tpr = dict()\n",
    "roc_auc = dict()\n",
    "\n",
    "n_classes = 3\n",
    "\n",
    "for i in range(n_classes):\n",
    "    fpr[i], tpr[i], _ = roc_curve(y_test_prepared[:, i], y_scores[:, i])\n",
    "    roc_auc[i] = auc(fpr[i], tpr[i])\n",
    "\n",
    "# Compute micro-average ROC curve and ROC area\n",
    "fpr[\"micro\"], tpr[\"micro\"], _ = roc_curve(y_test_prepared.ravel(), y_scores.ravel())\n",
    "roc_auc[\"micro\"] = auc(fpr[\"micro\"], tpr[\"micro\"])"
   ]
  },
  {
   "cell_type": "code",
   "execution_count": 67,
   "metadata": {},
   "outputs": [
    {
     "data": {
      "text/plain": [
       "array(['<30', '>30', 'NO'], dtype='<U3')"
      ]
     },
     "execution_count": 67,
     "metadata": {},
     "output_type": "execute_result"
    }
   ],
   "source": [
    "label_pipeline.classes_"
   ]
  },
  {
   "cell_type": "code",
   "execution_count": 91,
   "metadata": {},
   "outputs": [
    {
     "data": {
      "image/png": "[encoded data removed]",
      "text/plain": [
       "<Figure size 432x288 with 1 Axes>"
      ]
     },
     "metadata": {
      "needs_background": "light"
     },
     "output_type": "display_data"
    }
   ],
   "source": [
    "from itertools import cycle\n",
    "from sklearn.metrics import roc_curve, auc\n",
    "from scipy import interp\n",
    "\n",
    "import seaborn as sns\n",
    "current_palette = sns.color_palette()\n",
    "\n",
    "# From https://scikit-learn.org/stable/auto_examples/model_selection/plot_roc.html\n",
    "# First aggregate all false positive rates\n",
    "all_fpr = np.unique(np.concatenate([fpr[i] for i in range(n_classes)]))\n",
    "\n",
    "# Then interpolate all ROC curves at this points\n",
    "mean_tpr = np.zeros_like(all_fpr)\n",
    "for i in range(n_classes):\n",
    "    mean_tpr += interp(all_fpr, fpr[i], tpr[i])\n",
    "\n",
    "# Finally average it and compute AUC\n",
    "mean_tpr /= n_classes\n",
    "\n",
    "fpr[\"macro\"] = all_fpr\n",
    "tpr[\"macro\"] = mean_tpr\n",
    "roc_auc[\"macro\"] = auc(fpr[\"macro\"], tpr[\"macro\"])\n",
    "\n",
    "# Plot all ROC curves\n",
    "plt.figure(figsize=(6, 4))\n",
    "# plt.plot(fpr[\"micro\"], tpr[\"micro\"],\n",
    "#          label='micro-average ROC curve (AUC = {0:0.2f})'\n",
    "#                ''.format(roc_auc[\"micro\"]),\n",
    "#          color=current_palette[n_classes], linestyle=':', linewidth=4)\n",
    "\n",
    "plt.plot(fpr[\"macro\"], tpr[\"macro\"],\n",
    "         label='macro-average ROC curve (AUC = {0:0.2f})'\n",
    "               ''.format(roc_auc[\"macro\"]),\n",
    "         color=current_palette[n_classes+1], linestyle=':', linewidth=4)\n",
    "\n",
    "\n",
    "colors = cycle([current_palette[i] for i in range(n_classes)])\n",
    "\n",
    "classes = label_pipeline.classes_\n",
    "\n",
    "for i, color in zip(range(n_classes), colors):\n",
    "    plt.plot(fpr[i], tpr[i], color=color,\n",
    "             label='ROC curve of \\'{0}\\' (AUC = {1:0.2f})'\n",
    "             ''.format(classes[i], roc_auc[i]))\n",
    "\n",
    "plt.plot([0, 1], [0, 1], 'k--')\n",
    "plt.xlim([-0.05, 1.05])\n",
    "plt.ylim([-0.05, 1.05])\n",
    "plt.xlabel('False Positive Rate')\n",
    "plt.ylabel('True Positive Rate')\n",
    "plt.legend(loc=\"best\")\n",
    "plt.savefig('rocauc.png', dpi=600, bbox_inches='tight')\n",
    "plt.show()"
   ]
  },
  {
   "cell_type": "code",
   "execution_count": 68,
   "metadata": {},
   "outputs": [
    {
     "data": {
      "text/plain": [
       "<Figure size 432x288 with 0 Axes>"
      ]
     },
     "metadata": {},
     "output_type": "display_data"
    }
   ],
   "source": [
    "plt.savefig('rocauc.png', dpi=600, bbox_inches='tight')"
   ]
  },
  {
   "cell_type": "code",
   "execution_count": 90,
   "metadata": {},
   "outputs": [
    {
     "name": "stdout",
     "output_type": "stream",
     "text": [
      "each class [0.78352584 0.63609384 0.75772971]\n",
      "macro average 0.7257831284509509\n",
      "micro average 0.7395569795498596\n",
      "weighted average 0.7280227128387536\n"
     ]
    }
   ],
   "source": [
    "from sklearn.metrics import roc_auc_score\n",
    "\n",
    "print('each class', roc_auc_score(y_test_prepared, y_scores, average=None, multi_class='ovr', labels=classes))\n",
    "print('macro average', roc_auc_score(y_test_prepared, y_scores, average='macro', multi_class='ovr', labels=classes))\n",
    "print('micro average', roc_auc_score(y_test_prepared, y_scores, average='micro', multi_class='ovr', labels=classes))\n",
    "print('weighted average', roc_auc_score(y_test_prepared, y_scores, average='weighted', multi_class='ovr', labels=classes))"
   ]
  },
  {
   "cell_type": "code",
   "execution_count": 83,
   "metadata": {},
   "outputs": [
    {
     "data": {
      "text/plain": [
       "0.7257831284509509"
      ]
     },
     "execution_count": 83,
     "metadata": {},
     "output_type": "execute_result"
    }
   ],
   "source": [
    "np.mean(roc_auc_score(y_test_prepared, y_scores, average=None, multi_class='ovr', labels=classes))"
   ]
  },
  {
   "cell_type": "code",
   "execution_count": 85,
   "metadata": {},
   "outputs": [
    {
     "data": {
      "text/plain": [
       "NO     3158\n",
       ">30    2441\n",
       "<30    2345\n",
       "Name: readmitted, dtype: int64"
      ]
     },
     "execution_count": 85,
     "metadata": {},
     "output_type": "execute_result"
    }
   ],
   "source": [
    "y.value_counts()"
   ]
  },
  {
   "cell_type": "code",
   "execution_count": 86,
   "metadata": {},
   "outputs": [
    {
     "data": {
      "text/plain": [
       "NO     0.397533\n",
       ">30    0.307276\n",
       "<30    0.295191\n",
       "Name: readmitted, dtype: float64"
      ]
     },
     "execution_count": 86,
     "metadata": {},
     "output_type": "execute_result"
    }
   ],
   "source": [
    "y.value_counts()/len(y)"
   ]
  },
  {
   "cell_type": "code",
   "execution_count": 93,
   "metadata": {},
   "outputs": [
    {
     "data": {
      "text/plain": [
       "0.5473632515102942"
      ]
     },
     "execution_count": 93,
     "metadata": {},
     "output_type": "execute_result"
    }
   ],
   "source": [
    "(2 * 0.5712197606315254 * 0.5254195493900474) / (0.5712197606315254+0.5254195493900474)"
   ]
  },
  {
   "cell_type": "code",
   "execution_count": 101,
   "metadata": {},
   "outputs": [
    {
     "data": {
      "image/png": "[encoded data removed]",
      "text/plain": [
       "<Figure size 432x288 with 2 Axes>"
      ]
     },
     "metadata": {
      "needs_background": "light"
     },
     "output_type": "display_data"
    }
   ],
   "source": [
    "import seaborn as sns\n",
    "p17 = sns.heatmap(confusion_matrix(y_test, y_test_pred), annot=True, xticklabels=['<30', '>30', 'NO'], yticklabels=['<30', '>30', 'NO'], square=True, fmt=\"d\")\n",
    "p17.set_xlabel('Predicted')\n",
    "p17.set_ylabel('Actual')\n",
    "p17_fig = p17.get_figure()\n",
    "p17_fig.savefig('confmatrix.png', bbox_inches='tight', dpi=600)"
   ]
  },
  {
   "cell_type": "code",
   "execution_count": null,
   "metadata": {},
   "outputs": [],
   "source": []
  }
 ],
 "metadata": {
  "kernelspec": {
   "display_name": "Python 3",
   "language": "python",
   "name": "python3"
  },
  "language_info": {
   "codemirror_mode": {
    "name": "ipython",
    "version": 3
   },
   "file_extension": ".py",
   "mimetype": "text/x-python",
   "name": "python",
   "nbconvert_exporter": "python",
   "pygments_lexer": "ipython3",
   "version": "3.7.5"
  }
 },
 "nbformat": 4,
 "nbformat_minor": 4
}
