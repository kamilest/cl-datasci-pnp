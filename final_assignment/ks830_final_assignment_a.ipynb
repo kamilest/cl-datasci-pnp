{
 "cells": [
  {
   "cell_type": "markdown",
   "metadata": {},
   "source": [
    "# Final Assignment A\n",
    "\n",
    "Kamile Stankeviciute `ks830`"
   ]
  },
  {
   "cell_type": "code",
   "execution_count": 1,
   "metadata": {},
   "outputs": [],
   "source": [
    "# imports\n",
    "import os\n",
    "import pandas as pd\n",
    "import numpy as np\n",
    "\n",
    "import matplotlib\n",
    "from matplotlib import pyplot as plt\n",
    "%matplotlib inline\n",
    "\n",
    "import scipy\n",
    "import math\n",
    "\n",
    "\n",
    "import sklearn\n",
    "\n",
    "# from sklearn.model_selection import train_test_split, StratifiedShuffleSplit\n",
    "# from sklearn.model_selection import cross_val_score\n",
    "# from sklearn.model_selection import GridSearchCV, RandomizedSearchCV\n",
    "# from sklearn.base import TransformerMixin, BaseEstimator \n",
    "# from sklearn.impute import SimpleImputer\n",
    "# from sklearn.preprocessing import LabelBinarizer, StandardScaler, MinMaxScaler\n",
    "# from sklearn.preprocessing import PolynomialFeatures\n",
    "# from sklearn.pipeline import Pipeline, FeatureUnion\n",
    "# from sklearn.linear_model import LinearRegression\n",
    "# from sklearn.tree import DecisionTreeRegressor\n",
    "# from sklearn.ensemble import RandomForestRegressor\n",
    "# from sklearn.metrics import mean_squared_error\n",
    "\n",
    "# from sklearn.ensemble import VotingClassifier\n",
    "\n",
    "# from sklearn.ensemble import RandomForestClassifier\n",
    "# from sklearn.linear_model import LogisticRegression\n",
    "# from sklearn.svm import SVC\n",
    "\n",
    "# from sklearn.metrics import accuracy_score\n",
    "\n",
    "# from sklearn.ensemble import BaggingClassifier\n",
    "# from sklearn.tree import DecisionTreeClassifier\n",
    "\n",
    "# from sklearn.ensemble import AdaBoostClassifier\n",
    "\n",
    "# from sklearn.tree import DecisionTreeRegressor\n",
    "\n",
    "# from sklearn.ensemble import GradientBoostingRegressor\n",
    "\n",
    "# import sklearn.linear_model\n",
    "# import scipy.optimize\n",
    "# import sklearn.decomposition\n",
    "# import sklearn.manifold\n",
    "# import sklearn.model_selection\n"
   ]
  },
  {
   "cell_type": "code",
   "execution_count": 2,
   "metadata": {},
   "outputs": [],
   "source": [
    "# Loading the dataset"
   ]
  },
  {
   "cell_type": "markdown",
   "metadata": {},
   "source": [
    "## Data exploration\n",
    "\n",
    "Note that the dataset contains a combination of *categorical- and numerical-valued* features. It also contains a number of *missing values*. \n",
    "Explore different features in the dataset (e.g., you might want to remove features with mostly missing values), gain insights from the data and report your findings.\n",
    "\n",
    "Visualise the dataset and the predicted variable:\n",
    "* `<30` if the patient was readmitted in less than 30 days\n",
    "* `>30` if the patient was readmitted in more than 30 days\n",
    "* `No` if there is no record for readmission (but absence of evidence is not evidence of absence ;))"
   ]
  },
  {
   "cell_type": "code",
   "execution_count": null,
   "metadata": {},
   "outputs": [],
   "source": []
  }
 ],
 "metadata": {
  "file_extension": ".py",
  "kernelspec": {
   "display_name": "Python 3",
   "language": "python",
   "name": "python3"
  },
  "language_info": {
   "codemirror_mode": {
    "name": "ipython",
    "version": 3
   },
   "file_extension": ".py",
   "mimetype": "text/x-python",
   "name": "python",
   "nbconvert_exporter": "python",
   "pygments_lexer": "ipython3",
   "version": "3.7.5"
  },
  "mimetype": "text/x-python",
  "name": "python",
  "npconvert_exporter": "python",
  "pygments_lexer": "ipython3",
  "version": 3
 },
 "nbformat": 4,
 "nbformat_minor": 4
}
